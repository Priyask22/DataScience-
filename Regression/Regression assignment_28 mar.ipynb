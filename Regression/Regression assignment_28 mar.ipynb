{
 "cells": [
  {
   "cell_type": "markdown",
   "id": "12977523",
   "metadata": {},
   "source": [
    "# Regression 28 march"
   ]
  },
  {
   "cell_type": "markdown",
   "id": "4bfc231a",
   "metadata": {},
   "source": [
    "Q1.What is ridge regression and how does it differ from ordinary least square regression?"
   ]
  },
  {
   "cell_type": "markdown",
   "id": "eb56019f",
   "metadata": {},
   "source": [
    "Ridge Regression is a linear regression technique that introduces a regularization term in the objective function of the ordinary least squares (OLS) regression. This regularization term, also known as the L2 penalty, adds a constraint on the sum of the squared coefficients. The primary goal of this technique is to prevent overfitting by shrinking the coefficients of the model towards zero. Ridge Regression differs from OLS regression in the sense that it not only minimizes the residual sum of squares but also adds a regularization term to the objective function, which imposes a constraint on the size of the coefficients."
   ]
  },
  {
   "cell_type": "markdown",
   "id": "03c3fd16",
   "metadata": {},
   "source": [
    "Q2.What are the assumptiond of ridge regression?\n",
    "\n",
    "The assumptions of Ridge Regression are similar to those of OLS regression. These assumptions include linearity, independence of errors, normality of errors, homoscedasticity, and absence of multicollinearity. However, Ridge Regression relaxes the assumption of absence of multicollinearity to some extent by introducing a regularization term, which can handle the situation where the independent variables are highly correlated."
   ]
  },
  {
   "cell_type": "markdown",
   "id": "2fc588b7",
   "metadata": {},
   "source": [
    "Q3.How do you select the value of the tuning parameter(lambda) in  Ridge Regression ?\n",
    "\n",
    "The tuning parameter (lambda) in Ridge Regression controls the strength of the regularization. A smaller value of lambda corresponds to less regularization, and a larger value of lambda corresponds to more regularization. The value of lambda can be selected using techniques such as cross-validation or generalized cross-validation, which involve testing different values of lambda and selecting the one that gives the best performance on a validation set."
   ]
  },
  {
   "cell_type": "markdown",
   "id": "1aca55aa",
   "metadata": {},
   "source": [
    "Q4.Can Ridge Regression can be used for feature selection ? If yes,how?\n",
    "\n",
    "Yes, Ridge Regression can be used for feature selection by shrinking the coefficients of less important variables towards zero. The variables with non-zero coefficients are considered important and selected as features. The strength of regularization, controlled by the tuning parameter lambda, determines the extent of shrinkage. A larger value of lambda will lead to more coefficients being shrunk to zero, resulting in a smaller set of selected features. In this way, Ridge Regression can be used for both regularization and feature selection."
   ]
  },
  {
   "cell_type": "markdown",
   "id": "748e618a",
   "metadata": {},
   "source": [
    "Q5.How does the ridge regression model perform in the presence of multicollinearity?\n",
    "\n",
    "Ridge Regression is robust to the presence of multicollinearity, which is a situation where the independent variables are highly correlated. This is because the regularization term in Ridge Regression shrinks the coefficients of the correlated variables towards zero, reducing their impact on the model. This helps to reduce the variance of the estimates and improve the stability of the model.\n",
    "\n"
   ]
  },
  {
   "cell_type": "markdown",
   "id": "92fc1f68",
   "metadata": {},
   "source": [
    "Q6.Can Ridge Regression handle both categorical and continuous independant variables?\n",
    "\n",
    "Yes, Ridge Regression can handle both categorical and continuous independent variables. However, categorical variables need to be encoded as dummy variables before being included in the model. Dummy variables are binary variables that represent the categories of the categorical variable. The coefficients associated with the dummy variables indicate the effect of each category on the response variable, relative to the reference category.\n",
    "\n"
   ]
  },
  {
   "cell_type": "markdown",
   "id": "18aa8275",
   "metadata": {},
   "source": [
    "Q7.How do you interpret the coefficients of ridge regression?\n",
    "\n",
    "The interpretation of the coefficients in Ridge Regression is similar to that of OLS regression. The coefficients represent the change in the response variable for a unit change in the corresponding independent variable, holding all other variables constant. However, due to the regularization term in Ridge Regression, the magnitude of the coefficients is influenced by the tuning parameter lambda. As lambda increases, the coefficients shrink towards zero, making it difficult to interpret the importance of the variables.\n",
    "\n"
   ]
  },
  {
   "cell_type": "markdown",
   "id": "2829098e",
   "metadata": {},
   "source": [
    "Q8.Can Ridge Regresison be used for time -series data analysis?If yes, how?\n",
    "\n",
    "Yes, Ridge Regression can be used for time-series data analysis by incorporating lagged values of the response variable and the independent variables in the model. This allows the model to capture the temporal relationships between the variables and make predictions for future time points. However, it is important to account for the autocorrelation and seasonality present in time-series data, and to use appropriate techniques such as cross-validation and grid search to select the optimal values of lambda and other hyperparameters."
   ]
  },
  {
   "cell_type": "code",
   "execution_count": null,
   "id": "5bf494ab",
   "metadata": {},
   "outputs": [],
   "source": []
  },
  {
   "cell_type": "code",
   "execution_count": null,
   "id": "fee2cee4",
   "metadata": {},
   "outputs": [],
   "source": []
  },
  {
   "cell_type": "code",
   "execution_count": null,
   "id": "7eb779b6",
   "metadata": {},
   "outputs": [],
   "source": []
  }
 ],
 "metadata": {
  "kernelspec": {
   "display_name": "Python 3 (ipykernel)",
   "language": "python",
   "name": "python3"
  },
  "language_info": {
   "codemirror_mode": {
    "name": "ipython",
    "version": 3
   },
   "file_extension": ".py",
   "mimetype": "text/x-python",
   "name": "python",
   "nbconvert_exporter": "python",
   "pygments_lexer": "ipython3",
   "version": "3.10.5"
  }
 },
 "nbformat": 4,
 "nbformat_minor": 5
}
