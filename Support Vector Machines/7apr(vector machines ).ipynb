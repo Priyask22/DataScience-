{
 "cells": [
  {
   "cell_type": "markdown",
   "id": "1e78241c",
   "metadata": {},
   "source": [
    "# 7April(Support Vector Machines)"
   ]
  },
  {
   "cell_type": "markdown",
   "id": "93c5cef6",
   "metadata": {},
   "source": [
    "Question 1 : What is relationship between polynomial funtions and kernel functions in machine learning algorithms ?\n",
    "\n",
    "Answer 1\n",
    "Polynomial functions and kernel functions are related in the sense that polynomial functions can be used as a basis for kernel functions in machine learning algorithms. A kernel function is a mathematical function that maps data points from their original space to a new feature space, where they can be more easily separated or classified. The polynomial function is one of the common kernel functions used in Support Vector Machines (SVM) algorithms.\n",
    "\n",
    "Question 2 : How can we implement SVM with polynomial kernel in Python using Scikit-learn library?\n",
    "\n",
    "Answer 2\n",
    "We can implement an SVM with a polynomial kernel in Python using Scikit-learn library by following these steps:\n",
    "\n",
    "Import the necessary packages: from sklearn import datasets and from sklearn.svm import SVC\n",
    "\n",
    "Load the data using the datasets.load_iris() method\n",
    "\n",
    "Define the SVM model with the polynomial kernel using SVC(kernel='poly', degree=3, C=1.0)\n",
    "\n",
    "Train the model with the data using the .fit() method\n",
    "\n",
    "Predict the outcomes of the model using the .predict() method\n",
    "\n",
    "Here is an example code snippet for implementing SVM with a polynomial kernel:"
   ]
  },
  {
   "cell_type": "code",
   "execution_count": 2,
   "id": "ef19e795",
   "metadata": {},
   "outputs": [
    {
     "name": "stdout",
     "output_type": "stream",
     "text": [
      "[0 0 0 0 0 0 0 0 0 0 0 0 0 0 0 0 0 0 0 0 0 0 0 0 0 0 0 0 0 0 0 0 0 0 0 0 0\n",
      " 0 0 0 0 0 0 0 0 0 0 0 0 0 1 1 1 1 1 1 1 1 1 1 1 1 1 1 1 1 1 1 1 1 2 1 2 1\n",
      " 1 1 1 2 1 1 1 1 1 2 1 1 1 1 1 1 1 1 1 1 1 1 1 1 1 1 2 2 2 2 2 2 2 2 2 2 2\n",
      " 2 2 2 2 2 2 2 2 2 2 2 2 2 2 2 2 2 2 2 2 2 2 2 2 2 2 2 2 2 2 2 2 2 2 2 2 2\n",
      " 2 2]\n"
     ]
    }
   ],
   "source": [
    "from sklearn import datasets\n",
    "from sklearn.svm import SVC\n",
    "\n",
    "# Load the iris dataset\n",
    "iris = datasets.load_iris()\n",
    "X = iris.data\n",
    "y = iris.target\n",
    "\n",
    "# Define the SVM model with the polynomial kernel\n",
    "svm_poly = SVC(kernel='poly', degree=3, C=1.0)\n",
    "\n",
    "# Train the model\n",
    "svm_poly.fit(X, y)\n",
    "\n",
    "# Predict the outcomes\n",
    "y_pred = svm_poly.predict(X)\n",
    "print(y_pred)"
   ]
  },
  {
   "cell_type": "markdown",
   "id": "56e7b160",
   "metadata": {},
   "source": [
    "Question 3 : How does the increasing value of epsilon affect the number of support vectors in SVR?\n",
    "\n",
    "Answer 3\n",
    "The value of epsilon is a hyperparameter in Support Vector Regression (SVR) that controls the size of the margin around the predicted function where no penalty is incurred. Increasing the value of epsilon will increase the size of the margin and allow more errors in the predictions. As a result, increasing the value of epsilon will decrease the number of support vectors in SVR. However, a very large value of epsilon may result in underfitting, while a very small value may result in overfitting. So, it is important to choose the appropriate value of epsilon based on the data and the problem at hand.\n",
    "\n",
    "Question 4 : How does the choice of kernel function, C parameter, epsilon parameter affect the performance of SVR? Can you explain how each parameter works and provide examples of when you might increase or decrease the value?\n",
    "\n",
    "Answer 4\n",
    "Support Vector Regression (SVR) is a supervised learning algorithm used for regression tasks. The performance of SVR is heavily dependent on the choice of kernel function, C parameter, epsilon parameter, and gamma parameter. Here is a brief explanation of each parameter and how it affects the performance of SVR:\n",
    "\n",
    "Kernel Function: The kernel function is a function that transforms the data from the input space to a higher-dimensional feature space, where it can be more easily separated or classified. The choice of kernel function determines the type of decision boundary that can be created between the data points. Some commonly used kernel functions in SVR are linear, polynomial, and radial basis function (RBF).\n",
    "\n",
    "C Parameter: The C parameter controls the trade-off between the size of the margin and the amount of error allowed in the training data. A smaller C value allows more errors in the training data, which can result in a wider margin and fewer support vectors. Conversely, a larger C value forces the model to classify all data points correctly, resulting in a smaller margin and more support vectors.\n",
    "\n",
    "Epsilon Parameter: The epsilon parameter determines the width of the epsilon-insensitive zone around the predicted function, where no penalty is incurred. This means that any prediction within the zone is considered correct, and the model does not incur any penalty.\n",
    "\n",
    "Gamma Parameter: The gamma parameter controls the shape of the decision boundary in the feature space. A small gamma value leads to a softer decision boundary, while a large gamma value leads to a more complex decision boundary."
   ]
  },
  {
   "cell_type": "markdown",
   "id": "25e7d9ff",
   "metadata": {},
   "source": [
    "Question 5 : Assignment\n",
    "Import necessary libraries and load the dataset\n",
    "\n",
    "Split the dataset into training and testing set\n",
    "\n",
    "Preprocess the data with any technique of your choice (eg. scaling, normaliazation)\n",
    "\n",
    "Create an instance of SVC Classifer and train it on training data\n",
    "\n",
    "Use trained Classifier to predict labels on testing data\n",
    "\n",
    "Evaluate the performance of classifier using any metric of your choice\n",
    "\n",
    "Tune Hyperparameter of SVC using GridSearchCV or RandomizedSearchCV to imporve the performance\n",
    "\n",
    "Train the tuned classifier for entire dataset\n",
    "\n",
    "Save the trained classifier to a file for future use\n",
    "\n",
    "Answer 5\n",
    "Here is the implementation:"
   ]
  },
  {
   "cell_type": "code",
   "execution_count": null,
   "id": "598fd402",
   "metadata": {},
   "outputs": [],
   "source": [
    "Answer 5\n",
    "Here is the implementation:\n",
    "\n",
    "# Step 1: Import necessary libraries and load the dataset\n",
    "import pandas as pd\n",
    "from sklearn.model_selection import train_test_split\n",
    "from sklearn.preprocessing import StandardScaler\n",
    "from sklearn.svm import SVC\n",
    "from sklearn.metrics import accuracy_score\n",
    "from sklearn.model_selection import GridSearchCV\n",
    "import joblib\n",
    "\n",
    "df = pd.read_csv('dataset.csv')\n",
    "\n",
    "# Step 2: Split the dataset into training and testing sets\n",
    "X = df.drop('target_variable', axis=1)\n",
    "y = df['target_variable']\n",
    "X_train, X_test, y_train, y_test = train_test_split(X, y, test_size=0.2, random_state=42)\n",
    "\n",
    "# Step 3: Preprocess the data using StandardScaler\n",
    "scaler = StandardScaler()\n",
    "X_train = scaler.fit_transform(X_train)\n",
    "X_test = scaler.transform(X_test)\n",
    "\n",
    "# Step 4: Create an instance of the SVC classifier and train it on the training data\n",
    "svc = SVC()\n",
    "svc.fit(X_train, y_train)\n",
    "\n",
    "# Step 5: Use the trained classifier to predict the labels of the testing data\n",
    "y_pred = svc.predict(X_test)\n",
    "\n",
    "# Step 6: Evaluate the performance of the classifier using accuracy score\n",
    "accuracy = accuracy_score(y_test, y_pred)\n",
    "print(f\"Accuracy score: {accuracy}\")\n",
    "\n",
    "# Step 7: Tune the hyperparameters of the SVC classifier using GridSearchCV\n",
    "param_grid = {'C': [0.1, 1, 10], 'gamma': [0.1, 1, 10], 'kernel': ['linear', 'rbf']}\n",
    "grid = GridSearchCV(SVC(), param_grid, refit=True, verbose=3)\n",
    "grid.fit(X_train, y_train)\n",
    "\n",
    "# Step 8: Train the tuned classifier on the entire dataset\n",
    "svc_tuned = grid.best_estimator_\n",
    "svc_tuned.fit(X, y)\n",
    "\n",
    "# Step 9: Save the trained classifier to a file for future use\n",
    "joblib.dump(svc_tuned, 'svc_tuned.pkl')"
   ]
  },
  {
   "cell_type": "code",
   "execution_count": null,
   "id": "34437283",
   "metadata": {},
   "outputs": [],
   "source": []
  }
 ],
 "metadata": {
  "kernelspec": {
   "display_name": "Python 3 (ipykernel)",
   "language": "python",
   "name": "python3"
  },
  "language_info": {
   "codemirror_mode": {
    "name": "ipython",
    "version": 3
   },
   "file_extension": ".py",
   "mimetype": "text/x-python",
   "name": "python",
   "nbconvert_exporter": "python",
   "pygments_lexer": "ipython3",
   "version": "3.10.5"
  }
 },
 "nbformat": 4,
 "nbformat_minor": 5
}
