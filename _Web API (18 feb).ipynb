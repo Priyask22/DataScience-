{
 "cells": [
  {
   "cell_type": "markdown",
   "id": "f0d28ec3",
   "metadata": {},
   "source": [
    "# 18 feb  Web API "
   ]
  },
  {
   "cell_type": "markdown",
   "id": "300d32ab",
   "metadata": {},
   "source": [
    "Question 1: What is an API? Give an example, where an API is used in real life."
   ]
  },
  {
   "cell_type": "code",
   "execution_count": 5,
   "id": "0ab8a06f",
   "metadata": {
    "scrolled": true
   },
   "outputs": [
    {
     "name": "stdout",
     "output_type": "stream",
     "text": [
      "Defaulting to user installation because normal site-packages is not writeable\n",
      "Requirement already satisfied: requests in c:\\users\\admin\\appdata\\roaming\\python\\python310\\site-packages (2.28.2)\n",
      "Requirement already satisfied: charset-normalizer<4,>=2 in c:\\users\\admin\\appdata\\roaming\\python\\python310\\site-packages (from requests) (3.0.1)\n",
      "Requirement already satisfied: idna<4,>=2.5 in c:\\users\\admin\\appdata\\roaming\\python\\python310\\site-packages (from requests) (3.4)\n",
      "Requirement already satisfied: urllib3<1.27,>=1.21.1 in c:\\users\\admin\\appdata\\roaming\\python\\python310\\site-packages (from requests) (1.26.14)\n",
      "Requirement already satisfied: certifi>=2017.4.17 in c:\\users\\admin\\appdata\\roaming\\python\\python310\\site-packages (from requests) (2022.12.7)\n",
      "Note: you may need to restart the kernel to use updated packages.\n"
     ]
    },
    {
     "name": "stderr",
     "output_type": "stream",
     "text": [
      "\n",
      "[notice] A new release of pip is available: 23.1 -> 23.1.2\n",
      "[notice] To update, run: python.exe -m pip install --upgrade pip\n"
     ]
    }
   ],
   "source": [
    "%pip install requests\n"
   ]
  },
  {
   "cell_type": "code",
   "execution_count": 1,
   "id": "fbb7beaa",
   "metadata": {},
   "outputs": [
    {
     "name": "stdout",
     "output_type": "stream",
     "text": [
      "{'Meta Data': {'1. Information': 'Daily Time Series with Splits and Dividend Events', '2. Symbol': 'SBIN.BSE', '3. Last Refreshed': '2023-04-28', '4. Output Size': 'Compact', '5. Time Zone': 'US/Eastern'}, 'Time Series (Daily)': {'2023-04-28': {'1. open': '565.55', '2. high': '580.0', '3. low': '565.55', '4. close': '578.05', '5. adjusted close': '578.05', '6. volume': '878199', '7. dividend amount': '0.0000', '8. split coefficient': '1.0'}, '2023-04-27': {'1. open': '564.1', '2. high': '567.3', '3. low': '561.25', '4. close': '564.95', '5. adjusted close': '564.95', '6. volume': '268175', '7. dividend amount': '0.0000', '8. split coefficient': '1.0'}, '2023-04-26': {'1. open': '562.1', '2. high': '567.0', '3. low': '556.4', '4. close': '566.3', '5. adjusted close': '566.3', '6. volume': '302034', '7. dividend amount': '0.0000', '8. split coefficient': '1.0'}, '2023-04-25': {'1. open': '555.0', '2. high': '568.0', '3. low': '554.55', '4. close': '561.65', '5. adjusted close': '561.65', '6. volume': '655814', '7. dividend amount': '0.0000', '8. split coefficient': '1.0'}, '2023-04-24': {'1. open': '542.95', '2. high': '555.5', '3. low': '542.95', '4. close': '554.55', '5. adjusted close': '554.55', '6. volume': '512613', '7. dividend amount': '0.0000', '8. split coefficient': '1.0'}, '2023-04-21': {'1. open': '544.15', '2. high': '546.45', '3. low': '539.8', '4. close': '542.95', '5. adjusted close': '542.95', '6. volume': '199894', '7. dividend amount': '0.0000', '8. split coefficient': '1.0'}, '2023-04-20': {'1. open': '540.55', '2. high': '545.35', '3. low': '536.9', '4. close': '544.7', '5. adjusted close': '544.7', '6. volume': '454958', '7. dividend amount': '0.0000', '8. split coefficient': '1.0'}, '2023-04-19': {'1. open': '544.45', '2. high': '547.25', '3. low': '538.5', '4. close': '540.35', '5. adjusted close': '540.35', '6. volume': '317082', '7. dividend amount': '0.0000', '8. split coefficient': '1.0'}, '2023-04-18': {'1. open': '542.0', '2. high': '548.3', '3. low': '540.45', '4. close': '545.8', '5. adjusted close': '545.8', '6. volume': '652827', '7. dividend amount': '0.0000', '8. split coefficient': '1.0'}, '2023-04-17': {'1. open': '525.25', '2. high': '544.7', '3. low': '525.25', '4. close': '544.0', '5. adjusted close': '544.0', '6. volume': '1042487', '7. dividend amount': '0.0000', '8. split coefficient': '1.0'}, '2023-04-13': {'1. open': '527.65', '2. high': '534.45', '3. low': '527.1', '4. close': '533.15', '5. adjusted close': '533.15', '6. volume': '733247', '7. dividend amount': '0.0000', '8. split coefficient': '1.0'}, '2023-04-12': {'1. open': '532.1', '2. high': '534.05', '3. low': '526.05', '4. close': '528.25', '5. adjusted close': '528.25', '6. volume': '238741', '7. dividend amount': '0.0000', '8. split coefficient': '1.0'}, '2023-04-11': {'1. open': '530.55', '2. high': '535.5', '3. low': '527.2', '4. close': '532.0', '5. adjusted close': '532.0', '6. volume': '623590', '7. dividend amount': '0.0000', '8. split coefficient': '1.0'}, '2023-04-10': {'1. open': '528.3', '2. high': '530.35', '3. low': '525.0', '4. close': '526.3', '5. adjusted close': '526.3', '6. volume': '377867', '7. dividend amount': '0.0000', '8. split coefficient': '1.0'}, '2023-04-06': {'1. open': '523.95', '2. high': '533.6', '3. low': '521.9', '4. close': '527.95', '5. adjusted close': '527.95', '6. volume': '468140', '7. dividend amount': '0.0000', '8. split coefficient': '1.0'}, '2023-04-05': {'1. open': '527.0', '2. high': '527.6', '3. low': '519.0', '4. close': '522.8', '5. adjusted close': '522.8', '6. volume': '302349', '7. dividend amount': '0.0000', '8. split coefficient': '1.0'}, '2023-04-04': {'1. open': '526.65', '2. high': '526.65', '3. low': '526.65', '4. close': '526.65', '5. adjusted close': '526.65', '6. volume': '0', '7. dividend amount': '0.0000', '8. split coefficient': '1.0'}, '2023-04-03': {'1. open': '524.55', '2. high': '528.5', '3. low': '522.05', '4. close': '526.65', '5. adjusted close': '526.65', '6. volume': '308599', '7. dividend amount': '0.0000', '8. split coefficient': '1.0'}, '2023-03-31': {'1. open': '520.05', '2. high': '524.9', '3. low': '519.55', '4. close': '523.7', '5. adjusted close': '523.7', '6. volume': '438019', '7. dividend amount': '0.0000', '8. split coefficient': '1.0'}, '2023-03-29': {'1. open': '508.1', '2. high': '518.0', '3. low': '506.4', '4. close': '516.35', '5. adjusted close': '516.35', '6. volume': '736275', '7. dividend amount': '0.0000', '8. split coefficient': '1.0'}, '2023-03-28': {'1. open': '512.0', '2. high': '512.0', '3. low': '504.0', '4. close': '508.1', '5. adjusted close': '508.1', '6. volume': '323998', '7. dividend amount': '0.0000', '8. split coefficient': '1.0'}, '2023-03-27': {'1. open': '507.1', '2. high': '514.0', '3. low': '501.85', '4. close': '510.0', '5. adjusted close': '510.0', '6. volume': '750504', '7. dividend amount': '0.0000', '8. split coefficient': '1.0'}, '2023-03-24': {'1. open': '514.1', '2. high': '515.1', '3. low': '503.75', '4. close': '505.6', '5. adjusted close': '505.6', '6. volume': '407127', '7. dividend amount': '0.0000', '8. split coefficient': '1.0'}, '2023-03-23': {'1. open': '519.9', '2. high': '521.0', '3. low': '511.9', '4. close': '512.7', '5. adjusted close': '512.7', '6. volume': '455428', '7. dividend amount': '0.0000', '8. split coefficient': '1.0'}, '2023-03-22': {'1. open': '522.7', '2. high': '526.9', '3. low': '520.25', '4. close': '521.5', '5. adjusted close': '521.5', '6. volume': '282783', '7. dividend amount': '0.0000', '8. split coefficient': '1.0'}, '2023-03-21': {'1. open': '522.0', '2. high': '523.4', '3. low': '516.55', '4. close': '521.75', '5. adjusted close': '521.75', '6. volume': '413466', '7. dividend amount': '0.0000', '8. split coefficient': '1.0'}, '2023-03-20': {'1. open': '527.0', '2. high': '527.0', '3. low': '515.0', '4. close': '519.1', '5. adjusted close': '519.1', '6. volume': '435403', '7. dividend amount': '0.0000', '8. split coefficient': '1.0'}, '2023-03-17': {'1. open': '529.7', '2. high': '531.6', '3. low': '520.1', '4. close': '529.2', '5. adjusted close': '529.2', '6. volume': '454773', '7. dividend amount': '0.0000', '8. split coefficient': '1.0'}, '2023-03-16': {'1. open': '517.45', '2. high': '529.3', '3. low': '514.4', '4. close': '524.45', '5. adjusted close': '524.45', '6. volume': '686944', '7. dividend amount': '0.0000', '8. split coefficient': '1.0'}, '2023-03-15': {'1. open': '530.4', '2. high': '531.85', '3. low': '515.5', '4. close': '517.45', '5. adjusted close': '517.45', '6. volume': '393683', '7. dividend amount': '0.0000', '8. split coefficient': '1.0'}, '2023-03-14': {'1. open': '528.95', '2. high': '532.95', '3. low': '520.0', '4. close': '525.25', '5. adjusted close': '525.25', '6. volume': '545071', '7. dividend amount': '0.0000', '8. split coefficient': '1.0'}, '2023-03-13': {'1. open': '545.1', '2. high': '553.2', '3. low': '528.25', '4. close': '529.7', '5. adjusted close': '529.7', '6. volume': '535464', '7. dividend amount': '0.0000', '8. split coefficient': '1.0'}, '2023-03-10': {'1. open': '553.9', '2. high': '554.95', '3. low': '545.0', '4. close': '547.25', '5. adjusted close': '547.25', '6. volume': '603505', '7. dividend amount': '0.0000', '8. split coefficient': '1.0'}, '2023-03-09': {'1. open': '565.0', '2. high': '565.9', '3. low': '558.1', '4. close': '559.1', '5. adjusted close': '559.1', '6. volume': '350522', '7. dividend amount': '0.0000', '8. split coefficient': '1.0'}, '2023-03-08': {'1. open': '560.0', '2. high': '565.55', '3. low': '556.55', '4. close': '564.8', '5. adjusted close': '564.8', '6. volume': '415660', '7. dividend amount': '0.0000', '8. split coefficient': '1.0'}, '2023-03-06': {'1. open': '565.0', '2. high': '568.0', '3. low': '559.05', '4. close': '561.65', '5. adjusted close': '561.65', '6. volume': '378483', '7. dividend amount': '0.0000', '8. split coefficient': '1.0'}, '2023-03-03': {'1. open': '541.2', '2. high': '564.0', '3. low': '541.2', '4. close': '561.1', '5. adjusted close': '561.1', '6. volume': '2188942', '7. dividend amount': '0.0000', '8. split coefficient': '1.0'}, '2023-03-02': {'1. open': '536.0', '2. high': '539.95', '3. low': '532.45', '4. close': '533.8', '5. adjusted close': '533.8', '6. volume': '480134', '7. dividend amount': '0.0000', '8. split coefficient': '1.0'}, '2023-03-01': {'1. open': '523.05', '2. high': '537.5', '3. low': '523.05', '4. close': '536.8', '5. adjusted close': '536.8', '6. volume': '384155', '7. dividend amount': '0.0000', '8. split coefficient': '1.0'}, '2023-02-28': {'1. open': '527.95', '2. high': '528.0', '3. low': '521.7', '4. close': '522.75', '5. adjusted close': '522.75', '6. volume': '589521', '7. dividend amount': '0.0000', '8. split coefficient': '1.0'}, '2023-02-27': {'1. open': '520.95', '2. high': '529.6', '3. low': '519.05', '4. close': '527.95', '5. adjusted close': '527.95', '6. volume': '397605', '7. dividend amount': '0.0000', '8. split coefficient': '1.0'}, '2023-02-24': {'1. open': '526.75', '2. high': '527.6', '3. low': '517.4', '4. close': '520.95', '5. adjusted close': '520.95', '6. volume': '351252', '7. dividend amount': '0.0000', '8. split coefficient': '1.0'}, '2023-02-23': {'1. open': '518.65', '2. high': '524.0', '3. low': '511.25', '4. close': '520.8', '5. adjusted close': '520.8', '6. volume': '674569', '7. dividend amount': '0.0000', '8. split coefficient': '1.0'}, '2023-02-22': {'1. open': '521.2', '2. high': '521.75', '3. low': '512.5', '4. close': '516.35', '5. adjusted close': '516.35', '6. volume': '355801', '7. dividend amount': '0.0000', '8. split coefficient': '1.0'}, '2023-02-21': {'1. open': '527.2', '2. high': '529.0', '3. low': '522.5', '4. close': '523.25', '5. adjusted close': '523.25', '6. volume': '317073', '7. dividend amount': '0.0000', '8. split coefficient': '1.0'}, '2023-02-20': {'1. open': '532.4', '2. high': '534.0', '3. low': '522.1', '4. close': '525.1', '5. adjusted close': '525.1', '6. volume': '507031', '7. dividend amount': '0.0000', '8. split coefficient': '1.0'}, '2023-02-17': {'1. open': '539.15', '2. high': '539.5', '3. low': '527.8', '4. close': '530.9', '5. adjusted close': '530.9', '6. volume': '771672', '7. dividend amount': '0.0000', '8. split coefficient': '1.0'}, '2023-02-16': {'1. open': '546.05', '2. high': '546.75', '3. low': '539.0', '4. close': '540.1', '5. adjusted close': '540.1', '6. volume': '263883', '7. dividend amount': '0.0000', '8. split coefficient': '1.0'}, '2023-02-15': {'1. open': '541.45', '2. high': '544.65', '3. low': '537.0', '4. close': '542.2', '5. adjusted close': '542.2', '6. volume': '294189', '7. dividend amount': '0.0000', '8. split coefficient': '1.0'}, '2023-02-14': {'1. open': '539.7', '2. high': '544.6', '3. low': '530.8', '4. close': '540.65', '5. adjusted close': '540.65', '6. volume': '330324', '7. dividend amount': '0.0000', '8. split coefficient': '1.0'}, '2023-02-13': {'1. open': '554.7', '2. high': '556.8', '3. low': '533.4', '4. close': '537.3', '5. adjusted close': '537.3', '6. volume': '577180', '7. dividend amount': '0.0000', '8. split coefficient': '1.0'}, '2023-02-10': {'1. open': '547.45', '2. high': '557.05', '3. low': '546.65', '4. close': '552.95', '5. adjusted close': '552.95', '6. volume': '361598', '7. dividend amount': '0.0000', '8. split coefficient': '1.0'}, '2023-02-09': {'1. open': '553.0', '2. high': '553.0', '3. low': '542.8', '4. close': '550.65', '5. adjusted close': '550.65', '6. volume': '674156', '7. dividend amount': '0.0000', '8. split coefficient': '1.0'}, '2023-02-08': {'1. open': '548.15', '2. high': '554.65', '3. low': '545.55', '4. close': '549.55', '5. adjusted close': '549.55', '6. volume': '738413', '7. dividend amount': '0.0000', '8. split coefficient': '1.0'}, '2023-02-07': {'1. open': '548.0', '2. high': '551.65', '3. low': '541.25', '4. close': '547.1', '5. adjusted close': '547.1', '6. volume': '647852', '7. dividend amount': '0.0000', '8. split coefficient': '1.0'}, '2023-02-06': {'1. open': '554.0', '2. high': '558.25', '3. low': '536.75', '4. close': '545.35', '5. adjusted close': '545.35', '6. volume': '1473575', '7. dividend amount': '0.0000', '8. split coefficient': '1.0'}, '2023-02-03': {'1. open': '535.0', '2. high': '546.0', '3. low': '519.4', '4. close': '544.45', '5. adjusted close': '544.45', '6. volume': '1735194', '7. dividend amount': '0.0000', '8. split coefficient': '1.0'}, '2023-02-02': {'1. open': '516.8', '2. high': '532.7', '3. low': '502.55', '4. close': '528.0', '5. adjusted close': '528.0', '6. volume': '1602831', '7. dividend amount': '0.0000', '8. split coefficient': '1.0'}, '2023-02-01': {'1. open': '562.85', '2. high': '564.95', '3. low': '499.35', '4. close': '527.1', '5. adjusted close': '527.1', '6. volume': '2394144', '7. dividend amount': '0.0000', '8. split coefficient': '1.0'}, '2023-01-31': {'1. open': '545.75', '2. high': '556.95', '3. low': '538.0', '4. close': '553.7', '5. adjusted close': '553.7', '6. volume': '1085214', '7. dividend amount': '0.0000', '8. split coefficient': '1.0'}, '2023-01-30': {'1. open': '530.35', '2. high': '554.5', '3. low': '525.05', '4. close': '538.35', '5. adjusted close': '538.35', '6. volume': '1702096', '7. dividend amount': '0.0000', '8. split coefficient': '1.0'}, '2023-01-27': {'1. open': '572.15', '2. high': '572.15', '3. low': '532.35', '4. close': '540.2', '5. adjusted close': '540.2', '6. volume': '1346646', '7. dividend amount': '0.0000', '8. split coefficient': '1.0'}, '2023-01-25': {'1. open': '595.05', '2. high': '595.85', '3. low': '567.3', '4. close': '568.8', '5. adjusted close': '568.8', '6. volume': '936393', '7. dividend amount': '0.0000', '8. split coefficient': '1.0'}, '2023-01-24': {'1. open': '602.45', '2. high': '604.6', '3. low': '593.0', '4. close': '594.35', '5. adjusted close': '594.35', '6. volume': '217501', '7. dividend amount': '0.0000', '8. split coefficient': '1.0'}, '2023-01-23': {'1. open': '598.15', '2. high': '601.5', '3. low': '592.5', '4. close': '600.45', '5. adjusted close': '600.45', '6. volume': '138245', '7. dividend amount': '0.0000', '8. split coefficient': '1.0'}, '2023-01-20': {'1. open': '592.0', '2. high': '596.5', '3. low': '590.5', '4. close': '592.1', '5. adjusted close': '592.1', '6. volume': '259570', '7. dividend amount': '0.0000', '8. split coefficient': '1.0'}, '2023-01-19': {'1. open': '591.5', '2. high': '591.5', '3. low': '587.8', '4. close': '589.9', '5. adjusted close': '589.9', '6. volume': '168181', '7. dividend amount': '0.0000', '8. split coefficient': '1.0'}, '2023-01-18': {'1. open': '596.85', '2. high': '597.1', '3. low': '587.85', '4. close': '591.4', '5. adjusted close': '591.4', '6. volume': '322537', '7. dividend amount': '0.0000', '8. split coefficient': '1.0'}, '2023-01-17': {'1. open': '603.4', '2. high': '606.0', '3. low': '586.2', '4. close': '592.95', '5. adjusted close': '592.95', '6. volume': '408441', '7. dividend amount': '0.0000', '8. split coefficient': '1.0'}, '2023-01-16': {'1. open': '601.15', '2. high': '606.0', '3. low': '600.7', '4. close': '603.0', '5. adjusted close': '603.0', '6. volume': '245456', '7. dividend amount': '0.0000', '8. split coefficient': '1.0'}, '2023-01-13': {'1. open': '596.6', '2. high': '602.7', '3. low': '593.7', '4. close': '600.05', '5. adjusted close': '600.05', '6. volume': '284458', '7. dividend amount': '0.0000', '8. split coefficient': '1.0'}, '2023-01-12': {'1. open': '597.8', '2. high': '597.8', '3. low': '590.3', '4. close': '595.0', '5. adjusted close': '595.0', '6. volume': '405611', '7. dividend amount': '0.0000', '8. split coefficient': '1.0'}, '2023-01-11': {'1. open': '596.0', '2. high': '599.4', '3. low': '592.35', '4. close': '596.55', '5. adjusted close': '596.55', '6. volume': '332770', '7. dividend amount': '0.0000', '8. split coefficient': '1.0'}, '2023-01-10': {'1. open': '607.85', '2. high': '608.8', '3. low': '590.7', '4. close': '595.15', '5. adjusted close': '595.15', '6. volume': '599806', '7. dividend amount': '0.0000', '8. split coefficient': '1.0'}, '2023-01-09': {'1. open': '605.95', '2. high': '609.0', '3. low': '600.5', '4. close': '607.85', '5. adjusted close': '607.85', '6. volume': '477133', '7. dividend amount': '0.0000', '8. split coefficient': '1.0'}, '2023-01-06': {'1. open': '606.1', '2. high': '607.45', '3. low': '597.0', '4. close': '600.6', '5. adjusted close': '600.6', '6. volume': '362496', '7. dividend amount': '0.0000', '8. split coefficient': '1.0'}, '2023-01-05': {'1. open': '607.9', '2. high': '611.5', '3. low': '602.05', '4. close': '605.2', '5. adjusted close': '605.2', '6. volume': '319390', '7. dividend amount': '0.0000', '8. split coefficient': '1.0'}, '2023-01-04': {'1. open': '612.35', '2. high': '615.0', '3. low': '603.8', '4. close': '605.25', '5. adjusted close': '605.25', '6. volume': '212339', '7. dividend amount': '0.0000', '8. split coefficient': '1.0'}, '2023-01-03': {'1. open': '612.55', '2. high': '616.65', '3. low': '610.05', '4. close': '612.35', '5. adjusted close': '612.35', '6. volume': '322698', '7. dividend amount': '0.0000', '8. split coefficient': '1.0'}, '2023-01-02': {'1. open': '615.0', '2. high': '619.25', '3. low': '611.5', '4. close': '612.25', '5. adjusted close': '612.25', '6. volume': '189984', '7. dividend amount': '0.0000', '8. split coefficient': '1.0'}, '2022-12-30': {'1. open': '615.7', '2. high': '620.5', '3. low': '611.5', '4. close': '613.2', '5. adjusted close': '613.2', '6. volume': '544009', '7. dividend amount': '0.0000', '8. split coefficient': '1.0'}, '2022-12-29': {'1. open': '601.2', '2. high': '616.35', '3. low': '597.35', '4. close': '612.3', '5. adjusted close': '612.3', '6. volume': '621617', '7. dividend amount': '0.0000', '8. split coefficient': '1.0'}, '2022-12-28': {'1. open': '602.0', '2. high': '606.95', '3. low': '598.85', '4. close': '601.2', '5. adjusted close': '601.2', '6. volume': '258405', '7. dividend amount': '0.0000', '8. split coefficient': '1.0'}, '2022-12-27': {'1. open': '600.9', '2. high': '603.1', '3. low': '593.35', '4. close': '601.85', '5. adjusted close': '601.85', '6. volume': '343276', '7. dividend amount': '0.0000', '8. split coefficient': '1.0'}, '2022-12-26': {'1. open': '573.6', '2. high': '601.75', '3. low': '570.7', '4. close': '596.75', '5. adjusted close': '596.75', '6. volume': '368995', '7. dividend amount': '0.0000', '8. split coefficient': '1.0'}, '2022-12-23': {'1. open': '590.0', '2. high': '590.45', '3. low': '572.0', '4. close': '573.95', '5. adjusted close': '573.95', '6. volume': '439245', '7. dividend amount': '0.0000', '8. split coefficient': '1.0'}, '2022-12-22': {'1. open': '595.2', '2. high': '599.05', '3. low': '587.5', '4. close': '593.35', '5. adjusted close': '593.35', '6. volume': '523610', '7. dividend amount': '0.0000', '8. split coefficient': '1.0'}, '2022-12-21': {'1. open': '604.65', '2. high': '609.15', '3. low': '589.7', '4. close': '593.4', '5. adjusted close': '593.4', '6. volume': '450475', '7. dividend amount': '0.0000', '8. split coefficient': '1.0'}, '2022-12-20': {'1. open': '603.5', '2. high': '606.6', '3. low': '599.45', '4. close': '604.6', '5. adjusted close': '604.6', '6. volume': '383924', '7. dividend amount': '0.0000', '8. split coefficient': '1.0'}, '2022-12-19': {'1. open': '608.3', '2. high': '609.45', '3. low': '602.9', '4. close': '604.95', '5. adjusted close': '604.95', '6. volume': '207743', '7. dividend amount': '0.0000', '8. split coefficient': '1.0'}, '2022-12-16': {'1. open': '612.8', '2. high': '615.5', '3. low': '593.6', '4. close': '603.3', '5. adjusted close': '603.3', '6. volume': '331847', '7. dividend amount': '0.0000', '8. split coefficient': '1.0'}, '2022-12-15': {'1. open': '625.0', '2. high': '629.65', '3. low': '614.0', '4. close': '615.5', '5. adjusted close': '615.5', '6. volume': '494386', '7. dividend amount': '0.0000', '8. split coefficient': '1.0'}, '2022-12-14': {'1. open': '619.4', '2. high': '626.5', '3. low': '617.35', '4. close': '625.55', '5. adjusted close': '625.55', '6. volume': '657396', '7. dividend amount': '0.0000', '8. split coefficient': '1.0'}, '2022-12-13': {'1. open': '614.4', '2. high': '617.25', '3. low': '612.6', '4. close': '616.65', '5. adjusted close': '616.65', '6. volume': '2344503', '7. dividend amount': '0.0000', '8. split coefficient': '1.0'}, '2022-12-12': {'1. open': '615.85', '2. high': '618.65', '3. low': '611.05', '4. close': '613.05', '5. adjusted close': '613.05', '6. volume': '281485', '7. dividend amount': '0.0000', '8. split coefficient': '1.0'}, '2022-12-09': {'1. open': '614.0', '2. high': '618.0', '3. low': '609.0', '4. close': '616.45', '5. adjusted close': '616.45', '6. volume': '628573', '7. dividend amount': '0.0000', '8. split coefficient': '1.0'}, '2022-12-08': {'1. open': '610.0', '2. high': '613.9', '3. low': '607.3', '4. close': '611.7', '5. adjusted close': '611.7', '6. volume': '379325', '7. dividend amount': '0.0000', '8. split coefficient': '1.0'}, '2022-12-07': {'1. open': '610.1', '2. high': '612.9', '3. low': '604.7', '4. close': '607.0', '5. adjusted close': '607.0', '6. volume': '346921', '7. dividend amount': '0.0000', '8. split coefficient': '1.0'}, '2022-12-06': {'1. open': '614.7', '2. high': '619.8', '3. low': '608.0', '4. close': '609.0', '5. adjusted close': '609.0', '6. volume': '298737', '7. dividend amount': '0.0000', '8. split coefficient': '1.0'}, '2022-12-05': {'1. open': '605.05', '2. high': '618.0', '3. low': '605.05', '4. close': '617.15', '5. adjusted close': '617.15', '6. volume': '585041', '7. dividend amount': '0.0000', '8. split coefficient': '1.0'}}}\n"
     ]
    }
   ],
   "source": [
    "import requests\n",
    "\n",
    "ticker = 'SBIN.BSE'\n",
    "url = 'https://www.alphavantage.co/query?function=TIME_SERIES_DAILY_ADJUSTED&symbol='+ ticker +'&apikey=HZ8QGOLXW2U01N2E'\n",
    "r = requests.get(url)\n",
    "data = r.json()\n",
    "\n",
    "print(data)"
   ]
  },
  {
   "cell_type": "code",
   "execution_count": 2,
   "id": "33374ba3",
   "metadata": {},
   "outputs": [
    {
     "data": {
      "text/plain": [
       "['2023-04-28', '2023-04-27', '2023-04-26', '2023-04-25', '2023-04-24']"
      ]
     },
     "execution_count": 2,
     "metadata": {},
     "output_type": "execute_result"
    }
   ],
   "source": [
    "# Getting dates from Time Series Daily\n",
    "dates = list(data['Time Series (Daily)'].keys())\n",
    "dates[0:5]"
   ]
  },
  {
   "cell_type": "code",
   "execution_count": 3,
   "id": "0ee8cd67",
   "metadata": {},
   "outputs": [
    {
     "data": {
      "text/plain": [
       "[{'1. open': '565.55',\n",
       "  '2. high': '580.0',\n",
       "  '3. low': '565.55',\n",
       "  '4. close': '578.05',\n",
       "  '5. adjusted close': '578.05',\n",
       "  '6. volume': '878199',\n",
       "  '7. dividend amount': '0.0000',\n",
       "  '8. split coefficient': '1.0'},\n",
       " {'1. open': '564.1',\n",
       "  '2. high': '567.3',\n",
       "  '3. low': '561.25',\n",
       "  '4. close': '564.95',\n",
       "  '5. adjusted close': '564.95',\n",
       "  '6. volume': '268175',\n",
       "  '7. dividend amount': '0.0000',\n",
       "  '8. split coefficient': '1.0'}]"
      ]
     },
     "execution_count": 3,
     "metadata": {},
     "output_type": "execute_result"
    }
   ],
   "source": [
    "prices = list(data['Time Series (Daily)'].values())\n",
    "prices[0:2]"
   ]
  },
  {
   "cell_type": "code",
   "execution_count": 4,
   "id": "65bfb88b",
   "metadata": {},
   "outputs": [],
   "source": [
    "open = []\n",
    "high = []\n",
    "low = []\n",
    "close = []\n",
    "adj_close = []\n",
    "volume = []\n",
    "for i in prices:\n",
    "    open.append(float(i['1. open']))\n",
    "    high.append(float(i['2. high']))\n",
    "    low.append(float(i['3. low']))\n",
    "    close.append(float(i['4. close']))\n",
    "    adj_close.append(float(i['5. adjusted close']))\n",
    "    volume.append(float(i['6. volume']))\n",
    "# Saving into Dataframe\n",
    "import pandas as pd\n",
    "df_sbin = pd.DataFrame({'open':open,'high':high, 'low':low, 'close':close,'adj_close':adj_close, 'volume':volume})\n",
    "df_sbin.index = dates\n",
    "df_sbin = df_sbin.iloc[::-1]"
   ]
  },
  {
   "cell_type": "code",
   "execution_count": 5,
   "id": "6d7276b9",
   "metadata": {},
   "outputs": [
    {
     "data": {
      "text/html": [
       "<div>\n",
       "<style scoped>\n",
       "    .dataframe tbody tr th:only-of-type {\n",
       "        vertical-align: middle;\n",
       "    }\n",
       "\n",
       "    .dataframe tbody tr th {\n",
       "        vertical-align: top;\n",
       "    }\n",
       "\n",
       "    .dataframe thead th {\n",
       "        text-align: right;\n",
       "    }\n",
       "</style>\n",
       "<table border=\"1\" class=\"dataframe\">\n",
       "  <thead>\n",
       "    <tr style=\"text-align: right;\">\n",
       "      <th></th>\n",
       "      <th>open</th>\n",
       "      <th>high</th>\n",
       "      <th>low</th>\n",
       "      <th>close</th>\n",
       "      <th>adj_close</th>\n",
       "      <th>volume</th>\n",
       "    </tr>\n",
       "  </thead>\n",
       "  <tbody>\n",
       "    <tr>\n",
       "      <th>2022-12-05</th>\n",
       "      <td>605.05</td>\n",
       "      <td>618.0</td>\n",
       "      <td>605.05</td>\n",
       "      <td>617.15</td>\n",
       "      <td>617.15</td>\n",
       "      <td>585041.0</td>\n",
       "    </tr>\n",
       "    <tr>\n",
       "      <th>2022-12-06</th>\n",
       "      <td>614.70</td>\n",
       "      <td>619.8</td>\n",
       "      <td>608.00</td>\n",
       "      <td>609.00</td>\n",
       "      <td>609.00</td>\n",
       "      <td>298737.0</td>\n",
       "    </tr>\n",
       "    <tr>\n",
       "      <th>2022-12-07</th>\n",
       "      <td>610.10</td>\n",
       "      <td>612.9</td>\n",
       "      <td>604.70</td>\n",
       "      <td>607.00</td>\n",
       "      <td>607.00</td>\n",
       "      <td>346921.0</td>\n",
       "    </tr>\n",
       "    <tr>\n",
       "      <th>2022-12-08</th>\n",
       "      <td>610.00</td>\n",
       "      <td>613.9</td>\n",
       "      <td>607.30</td>\n",
       "      <td>611.70</td>\n",
       "      <td>611.70</td>\n",
       "      <td>379325.0</td>\n",
       "    </tr>\n",
       "    <tr>\n",
       "      <th>2022-12-09</th>\n",
       "      <td>614.00</td>\n",
       "      <td>618.0</td>\n",
       "      <td>609.00</td>\n",
       "      <td>616.45</td>\n",
       "      <td>616.45</td>\n",
       "      <td>628573.0</td>\n",
       "    </tr>\n",
       "  </tbody>\n",
       "</table>\n",
       "</div>"
      ],
      "text/plain": [
       "              open   high     low   close  adj_close    volume\n",
       "2022-12-05  605.05  618.0  605.05  617.15     617.15  585041.0\n",
       "2022-12-06  614.70  619.8  608.00  609.00     609.00  298737.0\n",
       "2022-12-07  610.10  612.9  604.70  607.00     607.00  346921.0\n",
       "2022-12-08  610.00  613.9  607.30  611.70     611.70  379325.0\n",
       "2022-12-09  614.00  618.0  609.00  616.45     616.45  628573.0"
      ]
     },
     "execution_count": 5,
     "metadata": {},
     "output_type": "execute_result"
    }
   ],
   "source": [
    "df_sbin.head()\n"
   ]
  },
  {
   "cell_type": "code",
   "execution_count": 6,
   "id": "816ec6ab",
   "metadata": {},
   "outputs": [
    {
     "data": {
      "text/html": [
       "<div>\n",
       "<style scoped>\n",
       "    .dataframe tbody tr th:only-of-type {\n",
       "        vertical-align: middle;\n",
       "    }\n",
       "\n",
       "    .dataframe tbody tr th {\n",
       "        vertical-align: top;\n",
       "    }\n",
       "\n",
       "    .dataframe thead th {\n",
       "        text-align: right;\n",
       "    }\n",
       "</style>\n",
       "<table border=\"1\" class=\"dataframe\">\n",
       "  <thead>\n",
       "    <tr style=\"text-align: right;\">\n",
       "      <th></th>\n",
       "      <th>open</th>\n",
       "      <th>high</th>\n",
       "      <th>low</th>\n",
       "      <th>close</th>\n",
       "      <th>adj_close</th>\n",
       "      <th>volume</th>\n",
       "    </tr>\n",
       "  </thead>\n",
       "  <tbody>\n",
       "    <tr>\n",
       "      <th>2023-04-24</th>\n",
       "      <td>542.95</td>\n",
       "      <td>555.5</td>\n",
       "      <td>542.95</td>\n",
       "      <td>554.55</td>\n",
       "      <td>554.55</td>\n",
       "      <td>512613.0</td>\n",
       "    </tr>\n",
       "    <tr>\n",
       "      <th>2023-04-25</th>\n",
       "      <td>555.00</td>\n",
       "      <td>568.0</td>\n",
       "      <td>554.55</td>\n",
       "      <td>561.65</td>\n",
       "      <td>561.65</td>\n",
       "      <td>655814.0</td>\n",
       "    </tr>\n",
       "    <tr>\n",
       "      <th>2023-04-26</th>\n",
       "      <td>562.10</td>\n",
       "      <td>567.0</td>\n",
       "      <td>556.40</td>\n",
       "      <td>566.30</td>\n",
       "      <td>566.30</td>\n",
       "      <td>302034.0</td>\n",
       "    </tr>\n",
       "    <tr>\n",
       "      <th>2023-04-27</th>\n",
       "      <td>564.10</td>\n",
       "      <td>567.3</td>\n",
       "      <td>561.25</td>\n",
       "      <td>564.95</td>\n",
       "      <td>564.95</td>\n",
       "      <td>268175.0</td>\n",
       "    </tr>\n",
       "    <tr>\n",
       "      <th>2023-04-28</th>\n",
       "      <td>565.55</td>\n",
       "      <td>580.0</td>\n",
       "      <td>565.55</td>\n",
       "      <td>578.05</td>\n",
       "      <td>578.05</td>\n",
       "      <td>878199.0</td>\n",
       "    </tr>\n",
       "  </tbody>\n",
       "</table>\n",
       "</div>"
      ],
      "text/plain": [
       "              open   high     low   close  adj_close    volume\n",
       "2023-04-24  542.95  555.5  542.95  554.55     554.55  512613.0\n",
       "2023-04-25  555.00  568.0  554.55  561.65     561.65  655814.0\n",
       "2023-04-26  562.10  567.0  556.40  566.30     566.30  302034.0\n",
       "2023-04-27  564.10  567.3  561.25  564.95     564.95  268175.0\n",
       "2023-04-28  565.55  580.0  565.55  578.05     578.05  878199.0"
      ]
     },
     "execution_count": 6,
     "metadata": {},
     "output_type": "execute_result"
    }
   ],
   "source": [
    "df_sbin.tail()\n"
   ]
  },
  {
   "cell_type": "code",
   "execution_count": 7,
   "id": "669c023c",
   "metadata": {},
   "outputs": [
    {
     "data": {
      "text/plain": [
       "(100, 6)"
      ]
     },
     "execution_count": 7,
     "metadata": {},
     "output_type": "execute_result"
    }
   ],
   "source": [
    "df_sbin.shape\n"
   ]
  },
  {
   "cell_type": "code",
   "execution_count": 8,
   "id": "2762a4af",
   "metadata": {},
   "outputs": [],
   "source": [
    "## Saving Data to csv file\n",
    "df_sbin.to_csv('SBIN.csv',index=True)"
   ]
  },
  {
   "cell_type": "code",
   "execution_count": 9,
   "id": "1747a6ea",
   "metadata": {},
   "outputs": [
    {
     "data": {
      "text/plain": [
       "<Axes: title={'center': 'SBIN (BSE) Close price'}>"
      ]
     },
     "execution_count": 9,
     "metadata": {},
     "output_type": "execute_result"
    },
    {
     "data": {
      "image/png": "[encoded data removed]",
      "text/plain": [
       "<Figure size 1600x500 with 1 Axes>"
      ]
     },
     "metadata": {},
     "output_type": "display_data"
    }
   ],
   "source": [
    "# Plotting close value of SBI from BSE\n",
    "df_sbin['close'].plot(kind='line',figsize=(16,5),title='SBIN (BSE) Close price')"
   ]
  },
  {
   "cell_type": "code",
   "execution_count": 10,
   "id": "39fe168b",
   "metadata": {},
   "outputs": [
    {
     "name": "stdout",
     "output_type": "stream",
     "text": [
      "{'bestMatches': [{'1. symbol': 'RELIANCE.BSE', '2. name': 'RELIANCE INDUSTRIES LTD.', '3. type': 'Equity', '4. region': 'India/Bombay', '5. marketOpen': '09:15', '6. marketClose': '15:30', '7. timezone': 'UTC+5.5', '8. currency': 'INR', '9. matchScore': '0.8421'}, {'1. symbol': 'RELI', '2. name': 'Reliance Global Group Inc', '3. type': 'Equity', '4. region': 'United States', '5. marketOpen': '09:30', '6. marketClose': '16:00', '7. timezone': 'UTC-04', '8. currency': 'USD', '9. matchScore': '0.6667'}, {'1. symbol': 'RELIW', '2. name': 'Reliance Global Group Inc - Warrants - Series A (01/02/2026)', '3. type': 'Equity', '4. region': 'United States', '5. marketOpen': '09:30', '6. marketClose': '16:00', '7. timezone': 'UTC-04', '8. currency': 'USD', '9. matchScore': '0.6154'}, {'1. symbol': 'RELCAPITAL.BSE', '2. name': 'RELIANCE CAPITAL LTD.', '3. type': 'Equity', '4. region': 'India/Bombay', '5. marketOpen': '09:15', '6. marketClose': '15:30', '7. timezone': 'UTC+5.5', '8. currency': 'INR', '9. matchScore': '0.5517'}, {'1. symbol': 'RELCHEMQ.BSE', '2. name': 'RELIANCE CHEMOTEX INDUSTRIES LTD.-$', '3. type': 'Equity', '4. region': 'India/Bombay', '5. marketOpen': '09:15', '6. marketClose': '15:30', '7. timezone': 'UTC+5.5', '8. currency': 'INR', '9. matchScore': '0.5263'}, {'1. symbol': 'RLBS', '2. name': 'Reliance Bancshares Inc', '3. type': 'Equity', '4. region': 'United States', '5. marketOpen': '09:30', '6. marketClose': '16:00', '7. timezone': 'UTC-04', '8. currency': 'USD', '9. matchScore': '0.5161'}, {'1. symbol': '500111.BSE', '2. name': 'Reliance Capital Limited', '3. type': 'Equity', '4. region': 'India/Bombay', '5. marketOpen': '09:15', '6. marketClose': '15:30', '7. timezone': 'UTC+5.5', '8. currency': 'INR', '9. matchScore': '0.5000'}, {'1. symbol': 'RCOM.BSE', '2. name': 'RELIANCE COMMUNICATIONS LTD.', '3. type': 'Equity', '4. region': 'India/Bombay', '5. marketOpen': '09:15', '6. marketClose': '15:30', '7. timezone': 'UTC+5.5', '8. currency': 'INR', '9. matchScore': '0.4444'}, {'1. symbol': '532712.BSE', '2. name': 'Reliance Communications Limited', '3. type': 'Equity', '4. region': 'India/Bombay', '5. marketOpen': '09:15', '6. marketClose': '15:30', '7. timezone': 'UTC+5.5', '8. currency': 'INR', '9. matchScore': '0.4103'}, {'1. symbol': '503162.BSE', '2. name': 'Reliance Chemotex Industries Limited', '3. type': 'Equity', '4. region': 'India/Bombay', '5. marketOpen': '09:15', '6. marketClose': '15:30', '7. timezone': 'UTC+5.5', '8. currency': 'INR', '9. matchScore': '0.3636'}]}\n"
     ]
    }
   ],
   "source": [
    "# This is used to find ticker symbol for reliance in alpha vantege\n",
    "import requests\n",
    "\n",
    "search_query = \"reliance\"\n",
    "\n",
    "url = 'https://www.alphavantage.co/query?function=SYMBOL_SEARCH&keywords='+search_query+'&apikey=HZ8QGOLXW2U01N2E'\n",
    "r = requests.get(url)\n",
    "data = r.json()\n",
    "\n",
    "print(data)"
   ]
  },
  {
   "cell_type": "markdown",
   "id": "de7c082c",
   "metadata": {},
   "source": [
    "Question 2: Give advantages and disadvantages of using API.\n",
    "Answer :\n",
    "Advantages of using API:\n",
    "Interoperability: APIs enable different software systems to interact with each other seamlessly, regardless of their underlying technologies or programming languages. This allows for greater interoperability between systems and can lead to more efficient and effective software development.\n",
    "\n",
    "Flexibility: APIs allow developers to create applications that are flexible and customizable. Developers can choose the specific functionality they need from an API and incorporate it into their applications, rather than building that functionality from scratch.\n",
    "\n",
    "Time and cost savings: APIs can save time and money for developers and organizations by providing ready-made solutions that can be easily integrated into existing systems. This can reduce the amount of time and resources needed to build new software applications.\n",
    "\n",
    "Innovation: APIs can spur innovation by allowing developers to create new applications that integrate with existing systems. This can lead to the development of new products and services that might not have been possible without APIs.\n",
    "\n",
    "Disadvantages of using API:\n",
    "Complexity: APIs can be complex to use and require technical expertise to implement and maintain. This can make it challenging for non-technical users to integrate with them.\n",
    "\n",
    "Security Risks: APIs can introduce security risks, such as data breaches or unauthorized access to sensitive data, if not implemented properly or if security protocols are not followed.\n",
    "\n",
    "Dependency: When an application relies heavily on a third-party API, it can create a dependency on that API. Any changes or disruptions to the API can have a significant impact on the application, leading to downtime or other issues.\n",
    "\n",
    "Limited functionality: APIs may not always provide all the functionality needed for a particular application. In such cases, developers may need to build custom solutions, which can be time-consuming and costly.\n",
    "\n",
    "Overall, APIs offer significant advantages for software development and integration, but it's important to consider the potential drawbacks and risks associated with their use. Developers should carefully evaluate the pros and cons of using APIs and choose the best approach for their particular needs.\n",
    "\n",
    "\n",
    "Question 3\n",
    "\n",
    "Question 3: What is a Web API? Differentiate between API and Web API.\n",
    "Answer :\n",
    "A Web API, also known as a web service, is a type of API that is accessed over the web using HTTP requests and responses. Web APIs allow applications to exchange data with web servers and access resources such as databases, file systems, or other services.\n",
    "The main difference between an API and a Web API is that APIs can be accessed through different channels, including desktop applications, mobile apps, and embedded systems, whereas Web APIs are specifically designed to be accessed over the web using HTTP.\n",
    "Another difference is that Web APIs often use standard web technologies such as REST (Representational State Transfer) or SOAP (Simple Object Access Protocol) to exchange data between systems, while APIs may use a variety of communication protocols and data formats depending on their design.\n",
    "Differences between API and Web API are as per below:\n",
    "Features\tAPI\tWeb API\n",
    "Access\tCan be accessed through various channels, including desktop applications, mobile apps, and embedded systems\tSpecifically designed to be accessed over the web using HTTP\n",
    "Protocol\tMay use different communication protocols and data formats depending on their design\tTypically use standard web technologies such as REST or SOAP\n",
    "Resource\tCan provide access to various types of services and resources, such as operating system functions, hardware devices, or databases\tProvide access to web-based services and resources such as databases, file systems, or other web services\n",
    "Integration\tCan be integrated with a wide range of software systems and applications\tOften integrated with web-based software systems and applications\n",
    "Security\tSecurity protocols can vary depending on the design and implementation of the API\tTypically use standard web security protocols such as OAuth or SSL/TLS\n",
    "Examples\tOperating system APIs, hardware APIs, database APIs, etc.\tAlphaVantage API, Google Maps API, Twitter API, Facebook API, etc.\n",
    "\n",
    "Question 4\n",
    "\n",
    "Question 4: Explain REST and SOAP Architecture. Mention shortcomings of SOAP.\n",
    "Answer :\n",
    "REST and SOAP are two different architectural styles for designing web services.\n",
    "REST (Representational State Transfer) is an architectural style that emphasizes the use of HTTP methods and resource URIs (Uniform Resource Identifiers) to represent and manipulate web resources. RESTful APIs typically use standard HTTP methods such as GET, POST, PUT, and DELETE to retrieve, create, update, and delete resources. REST is lightweight and scalable, and can be easily implemented using simple HTTP protocols.\n",
    "\n",
    "SOAP (Simple Object Access Protocol), on the other hand, is a protocol that defines a standard format for exchanging structured data between applications over the internet. SOAP relies on XML (Extensible Markup Language) as its messaging format, and typically uses the HTTP or SMTP (Simple Mail Transfer Protocol) protocols for communication. SOAP is highly structured and can be used for complex operations, but can also be more cumbersome to implement and use than RESTful APIs.\n",
    "\n",
    "Shortcomings of SOAP\n",
    "One of the main shortcomings of SOAP is its complexity. SOAP relies on a complex XML schema that can be difficult to read and understand, and the protocol itself can be cumbersome to implement and use. SOAP also tends to be more resource-intensive than RESTful APIs, which can make it less suitable for high-volume or low-bandwidth environments.\n",
    "\n",
    "Additionally, SOAP can be less flexible than REST, as it requires a strict adherence to a predefined interface and message format. This can make it difficult to customize or extend SOAP-based APIs to suit specific use cases or applications.\n",
    "\n",
    "REST vs SOAP Analogy\n",
    "\n",
    "Credits for above image : Upwork\n",
    "\n",
    "\n",
    "Question 5\n",
    "\n",
    "Question 5: Differentiate between REST and SOAP.\n",
    "Answer :\n",
    "Difference between REST and SOAP As below:\n",
    "Feature\tREST\tSOAP\n",
    "Protocol\tUses HTTP\tCan use HTTP, SMTP, and others\n",
    "Data format\tTypically uses JSON or XML\tAlways uses XML\n",
    "Communication style\tStateless, each request contains all information needed\tCan be stateful or stateless\n",
    "Message structure\tDoesn't define a specific message structure\tHas a standardized message structure defined by XML schema\n",
    "Performance\tGenerally faster and more lightweight\tCan be more resource-intensive and slower\n",
    "Flexibility\tGenerally more flexible\tOften more rigid and requires more planning and design\n",
    "Overall, the choice between REST and SOAP depends on the specific needs of the application or service being developed. REST is often preferred for smaller, high-performance applications with a smaller data footprint, while SOAP may be more appropriate for larger, enterprise-level applications that require more robust messaging capabilities."
   ]
  }
 ],
 "metadata": {
  "kernelspec": {
   "display_name": "Python 3 (ipykernel)",
   "language": "python",
   "name": "python3"
  },
  "language_info": {
   "codemirror_mode": {
    "name": "ipython",
    "version": 3
   },
   "file_extension": ".py",
   "mimetype": "text/x-python",
   "name": "python",
   "nbconvert_exporter": "python",
   "pygments_lexer": "ipython3",
   "version": "3.10.5"
  }
 },
 "nbformat": 4,
 "nbformat_minor": 5
}
