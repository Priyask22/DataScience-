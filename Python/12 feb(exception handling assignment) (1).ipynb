{
 "cells": [
  {
   "cell_type": "markdown",
   "id": "bcf87ef6",
   "metadata": {},
   "source": [
    "# Exception Handling"
   ]
  },
  {
   "cell_type": "raw",
   "id": "8736aa33",
   "metadata": {},
   "source": [
    "Q1. What is an Exeption in python? Write the difference between Exceptions and syntax errors?\n",
    "\n",
    "An exception in Python is an error that occurs during the execution of a program. It may be due to various reasons such as invalid input, division by zero, out of memory, or trying to access an undefined variable. When an exception occurs, the normal flow of the program is disrupted, and the program terminates.\n",
    "\n",
    "The key difference between exceptions and syntax errors is that exceptions occur during the execution of a program, while syntax errors occur before the program is executed. Additionally, exceptions can be handled and resolved programmatically, while syntax errors must be fixed manually by the programmer"
   ]
  },
  {
   "cell_type": "raw",
   "id": "5b008606",
   "metadata": {},
   "source": [
    "Q2. What happens when an exception is not handled? Explain with an example\n",
    "\n",
    "When an exception is not handled, the program terminates abruptly and generates a traceback, which is a detailed report of the error that occurred. The traceback provides information about the line of code where the error occurred, the type of error, and a description of the error."
   ]
  },
  {
   "cell_type": "code",
   "execution_count": 2,
   "id": "c6756011",
   "metadata": {},
   "outputs": [
    {
     "name": "stdout",
     "output_type": "stream",
     "text": [
      "2.0\n"
     ]
    },
    {
     "ename": "ZeroDivisionError",
     "evalue": "division by zero",
     "output_type": "error",
     "traceback": [
      "\u001b[1;31m---------------------------------------------------------------------------\u001b[0m",
      "\u001b[1;31mZeroDivisionError\u001b[0m                         Traceback (most recent call last)",
      "Cell \u001b[1;32mIn[2], line 6\u001b[0m\n\u001b[0;32m      3\u001b[0m     \u001b[38;5;28;01mreturn\u001b[39;00m result\n\u001b[0;32m      5\u001b[0m \u001b[38;5;28mprint\u001b[39m(divide(\u001b[38;5;241m10\u001b[39m, \u001b[38;5;241m5\u001b[39m))\n\u001b[1;32m----> 6\u001b[0m \u001b[38;5;28mprint\u001b[39m(\u001b[43mdivide\u001b[49m\u001b[43m(\u001b[49m\u001b[38;5;241;43m10\u001b[39;49m\u001b[43m,\u001b[49m\u001b[43m \u001b[49m\u001b[38;5;241;43m0\u001b[39;49m\u001b[43m)\u001b[49m)\n",
      "Cell \u001b[1;32mIn[2], line 2\u001b[0m, in \u001b[0;36mdivide\u001b[1;34m(x, y)\u001b[0m\n\u001b[0;32m      1\u001b[0m \u001b[38;5;28;01mdef\u001b[39;00m \u001b[38;5;21mdivide\u001b[39m(x, y):\n\u001b[1;32m----> 2\u001b[0m     result \u001b[38;5;241m=\u001b[39m \u001b[43mx\u001b[49m\u001b[43m \u001b[49m\u001b[38;5;241;43m/\u001b[39;49m\u001b[43m \u001b[49m\u001b[43my\u001b[49m\n\u001b[0;32m      3\u001b[0m     \u001b[38;5;28;01mreturn\u001b[39;00m result\n",
      "\u001b[1;31mZeroDivisionError\u001b[0m: division by zero"
     ]
    }
   ],
   "source": [
    "def divide(x, y):\n",
    "    result = x / y\n",
    "    return result\n",
    "\n",
    "print(divide(10, 5))\n",
    "print(divide(10, 0))"
   ]
  },
  {
   "cell_type": "raw",
   "id": "7f6682d2",
   "metadata": {},
   "source": [
    "Q3.Which Python statements are used to catch and handle exceptions? Explain with an example\n",
    "\n",
    "In Python, exceptions can be caught and handled using the try and except statements. The try block contains the code that might raise an exception, and the except block contains the code that will handle the exception if it occurs.\n",
    "\n",
    "Here is an example of how to use the try and except statements to handle a ZeroDivisionError exception:"
   ]
  },
  {
   "cell_type": "code",
   "execution_count": 3,
   "id": "0a551a20",
   "metadata": {},
   "outputs": [
    {
     "ename": "SyntaxError",
     "evalue": "invalid syntax (1847509664.py, line 1)",
     "output_type": "error",
     "traceback": [
      "\u001b[1;36m  Cell \u001b[1;32mIn[3], line 1\u001b[1;36m\u001b[0m\n\u001b[1;33m    ef divide(x, y):\u001b[0m\n\u001b[1;37m       ^\u001b[0m\n\u001b[1;31mSyntaxError\u001b[0m\u001b[1;31m:\u001b[0m invalid syntax\n"
     ]
    }
   ],
   "source": [
    "ef divide(x, y):\n",
    "    try:\n",
    "        result = x / y\n",
    "    except ZeroDivisionError:\n",
    "        print(\"Cannot divide by zero\")\n",
    "    else:\n",
    "        return result\n",
    "\n",
    "print(divide(10, 5)) # Output: 2.0\n",
    "print(divide(10, 0)) # Output: Cannot divide by zero\n",
    "     "
   ]
  },
  {
   "cell_type": "raw",
   "id": "0f90b213",
   "metadata": {},
   "source": [
    "Q4. Explain with an example:#\n",
    "\n",
    "try and else\n",
    "finally\n",
    "raise"
   ]
  },
  {
   "cell_type": "code",
   "execution_count": 5,
   "id": "87853c68",
   "metadata": {},
   "outputs": [
    {
     "name": "stdout",
     "output_type": "stream",
     "text": [
      "2.0\n",
      "5.0\n"
     ]
    }
   ],
   "source": [
    "# try and else statements can be used in combination to handle exceptions in Python. The else block is executed if no exceptions are raised in the try block.\n",
    "#example\n",
    "\n",
    "def divide(x, y):\n",
    "    try:\n",
    "        result = x / y\n",
    "    except ZeroDivisionError:\n",
    "        print(\"Cannot divide by zero\")\n",
    "    else:\n",
    "        return result\n",
    "\n",
    "print(divide(10, 5)) # Output: 2.0\n",
    "print(divide(10, 2)) # Output: 5.0\n"
   ]
  },
  {
   "cell_type": "code",
   "execution_count": 7,
   "id": "fbf6916b",
   "metadata": {},
   "outputs": [
    {
     "name": "stdout",
     "output_type": "stream",
     "text": [
      "Executing finally block\n",
      "2.0\n",
      "Cannot divide by zero\n",
      "Executing finally block\n",
      "None\n"
     ]
    }
   ],
   "source": [
    "#example\n",
    "def divide(x, y):\n",
    "    try:\n",
    "        result = x / y\n",
    "    except ZeroDivisionError:\n",
    "        print(\"Cannot divide by zero\")\n",
    "        result = None\n",
    "    finally:\n",
    "        print(\"Executing finally block\")\n",
    "    return result\n",
    "\n",
    "print(divide(10, 5)) # Output: Executing finally block \\n 2.0\n",
    "print(divide(10, 0)) # Output: Cannot divide by zero \\n Executing finally block \\n None"
   ]
  },
  {
   "cell_type": "code",
   "execution_count": 8,
   "id": "41c4f516",
   "metadata": {},
   "outputs": [
    {
     "name": "stdout",
     "output_type": "stream",
     "text": [
      "2.0\n",
      "Cannot divide by zero\n"
     ]
    }
   ],
   "source": [
    "def divide(x, y):\n",
    "    if y == 0:\n",
    "        raise ZeroDivisionError(\"Cannot divide by zero\")\n",
    "    return x / y\n",
    "\n",
    "try:\n",
    "    print(divide(10, 5)) # Output: 2.0\n",
    "    print(divide(10, 0))\n",
    "except ZeroDivisionError as e:\n",
    "    print(e) # Output: Cannot divide by zero\n"
   ]
  },
  {
   "cell_type": "code",
   "execution_count": null,
   "id": "65b19a53",
   "metadata": {},
   "outputs": [],
   "source": [
    "Q5. What are Custom Exceptions in python? What do we need Custom Exceptions ? Explain in with an example"
   ]
  },
  {
   "cell_type": "raw",
   "id": "9a541f4a",
   "metadata": {},
   "source": [
    "Custom exceptions are user-defined exceptions in Python. They allow you to define specific types of exceptions for your application, so you can handle errors and exceptions in a more organized and meaningful way.\n",
    "\n",
    "For example, consider a scenario where you are writing a library that performs some mathematical calculations. In this library, you may encounter several different types of errors, such as invalid input, overflow, and divide-by-zero errors. You could handle these errors by raising built-in exceptions, such as ValueError or ZeroDivisionError, but it may not provide enough context or information about the error that has occurred."
   ]
  },
  {
   "cell_type": "code",
   "execution_count": 10,
   "id": "8898fce8",
   "metadata": {},
   "outputs": [
    {
     "name": "stdout",
     "output_type": "stream",
     "text": [
      "Enter a number: 55\n",
      "Eligible to Vote\n"
     ]
    }
   ],
   "source": [
    "class InvalidAgeException(Exception):\n",
    "    \"Raised when the input value is less than 18\"\n",
    "    pass\n",
    "\n",
    "# you need to guess this number\n",
    "number = 18\n",
    "\n",
    "try:\n",
    "    input_num = int(input(\"Enter a number: \"))\n",
    "    if input_num < number:\n",
    "        raise InvalidAgeException\n",
    "    else:\n",
    "        print(\"Eligible to Vote\")\n",
    "        \n",
    "except InvalidAgeException:\n",
    "    print(\"Exception occurred: Invalid Age\")"
   ]
  },
  {
   "cell_type": "raw",
   "id": "8063409d",
   "metadata": {},
   "source": [
    "Q6. Create a custom exception class. Use this class to handle an exception.\n"
   ]
  },
  {
   "cell_type": "code",
   "execution_count": 9,
   "id": "82613630",
   "metadata": {},
   "outputs": [
    {
     "name": "stdout",
     "output_type": "stream",
     "text": [
      "2.0\n",
      "Cannot divide by zero\n"
     ]
    }
   ],
   "source": [
    "class CustomException(Exception):\n",
    "    pass\n",
    "\n",
    "def divide(x, y):\n",
    "    if y == 0:\n",
    "        raise CustomException(\"Cannot divide by zero\")\n",
    "    return x / y\n",
    "\n",
    "try:\n",
    "    print(divide(10, 5)) # Output: 2.0\n",
    "    print(divide(10, 0))\n",
    "except CustomException as e:\n",
    "    print(e)"
   ]
  },
  {
   "cell_type": "code",
   "execution_count": null,
   "id": "9aedfe66",
   "metadata": {},
   "outputs": [],
   "source": []
  },
  {
   "cell_type": "code",
   "execution_count": null,
   "id": "ef636a65",
   "metadata": {},
   "outputs": [],
   "source": []
  }
 ],
 "metadata": {
  "kernelspec": {
   "display_name": "Python 3 (ipykernel)",
   "language": "python",
   "name": "python3"
  },
  "language_info": {
   "codemirror_mode": {
    "name": "ipython",
    "version": 3
   },
   "file_extension": ".py",
   "mimetype": "text/x-python",
   "name": "python",
   "nbconvert_exporter": "python",
   "pygments_lexer": "ipython3",
   "version": "3.10.5"
  }
 },
 "nbformat": 4,
 "nbformat_minor": 5
}
