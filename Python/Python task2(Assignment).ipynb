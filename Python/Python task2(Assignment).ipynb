{
 "cells": [
  {
   "cell_type": "markdown",
   "id": "df9aaa5d",
   "metadata": {},
   "source": [
    "# ASSIGNMENT"
   ]
  },
  {
   "cell_type": "raw",
   "id": "9ccf7df6",
   "metadata": {},
   "source": [
    "Q1)You are writing code for a company. The requirement of the company is that you create a python function that will check whether the password entered by the user is correct or not. The function should take the password as input and return the string “Valid Password” if the entered password follows the below-given password guidelines else it should return “Invalid Password”. Note: 1. The Password should contain at least two uppercase letters and at least two lowercase letters. 2. The Password should contain at least a number and three special characters. 3. The length of the password should be 10 characters long."
   ]
  },
  {
   "cell_type": "code",
   "execution_count": 9,
   "id": "d3798fa2",
   "metadata": {},
   "outputs": [
    {
     "name": "stdout",
     "output_type": "stream",
     "text": [
      "Valid Password\n"
     ]
    }
   ],
   "source": [
    "import re\n",
    "password = \"Riuf@_2003\"\n",
    "flag = 0\n",
    "while True:\n",
    "    if (len(password)<=8):\n",
    "        flag = -1\n",
    "        break\n",
    "    elif not re.search(\"[a-z]\", password):\n",
    "        flag = -1\n",
    "        break\n",
    "    elif not re.search(\"[A-Z]\", password):\n",
    "        flag = -1\n",
    "        break\n",
    "    elif not re.search(\"[0-9]\", password):\n",
    "        flag = -1\n",
    "        break\n",
    "    elif not re.search(\"[_@$]\" , password):\n",
    "        flag = -1\n",
    "        break\n",
    "    elif re.search(\"\\s\" , password):\n",
    "        flag = -1\n",
    "        break\n",
    "    else:\n",
    "        flag = 0\n",
    "        print(\"Valid Password\")\n",
    "        break\n",
    " \n",
    "if flag == -1:\n",
    "    print(\"Not a Valid Password \")"
   ]
  },
  {
   "cell_type": "raw",
   "id": "88126fd1",
   "metadata": {},
   "source": [
    "Q2). Solve the below-given questions using at least one of the following:\n",
    "\n",
    "1>Lambda functioJ\n",
    "2>Filter functioJ\n",
    "3>Zap functioJ\n",
    "4>List ComprehensioI\n",
    "Check if the string starts with a particular letterY Check if the string is numeric Sort a list of tuples having fruit names and their quantity. [(\"mango\",99),(\"orange\",80), (\"grapes\", 1000)- Find the squares of numbers from 1 to 10Y Find the cube root of numbers from 1 to 10Y Check if a given number is evenY Filter odd numbers from the given list. 1,2,3,4,5,6,7,8,9,10- Sort a list of integers into positive and negative integers lists. [1,2,3,4,5,6,-1,-2,-3,-4,-5,0]"
   ]
  },
  {
   "cell_type": "code",
   "execution_count": 10,
   "id": "9962d2bc",
   "metadata": {},
   "outputs": [
    {
     "name": "stdout",
     "output_type": "stream",
     "text": [
      "True\n",
      "False\n",
      "True\n",
      "False\n",
      "[('orange', 80), ('mango', 99), ('grapes', 1000)]\n",
      "[1, 4, 9, 16, 25, 36, 49, 64, 81, 100]\n",
      "[1.0, 1.2599210498948732, 1.4422495703074083, 1.5874010519681994, 1.7099759466766968, 1.8171205928321397, 1.912931182772389, 2.0, 2.080083823051904, 2.154434690031884]\n",
      "True\n",
      "False\n",
      "[1, 3, 5, 7, 9]\n",
      "[1, 2, 3, 4, 5, 6]\n"
     ]
    }
   ],
   "source": [
    "#Ans> 1.Check if the string starts with a particular letter:\n",
    "starts_with = lambda string, letter: string[0] == letter\n",
    "\n",
    "print(starts_with(\"Hello\", \"H\")) # True\n",
    "print(starts_with(\"Hello\", \"h\")) # False\n",
    "\n",
    "#2.Check if the string is numeric:\n",
    "def is_numeric(string):\n",
    "    return string.isdigit()\n",
    "\n",
    "print(is_numeric(\"123\")) # True\n",
    "print(is_numeric(\"abc\")) # False\n",
    "\n",
    "#3.Sort a list of tuples having fruit names and their quantity:\n",
    "fruits = [(\"mango\", 99), (\"orange\", 80), (\"grapes\", 1000)]\n",
    "\n",
    "sorted_fruits = sorted(fruits, key=lambda x: x[1])\n",
    "\n",
    "print(sorted_fruits) # [(\"mango\", 99), (\"orange\", 80), (\"grapes\", 1000)]\n",
    "\n",
    "#4.Find the squares of numbers from 1 to 10:\n",
    "squared_numbers = [x**2 for x in range(1, 11)]\n",
    "\n",
    "print(squared_numbers) # [1, 4, 9, 16, 25, 36, 49, 64, 81, 100]\n",
    "\n",
    "#5.Find the cube root of numbers from 1 to 10:\n",
    "import math\n",
    "\n",
    "cuberoot_numbers = [math.pow(x, 1/3) for x in range(1, 11)]\n",
    "\n",
    "print(cuberoot_numbers)\n",
    "\n",
    "#6.Check if a given number is even:\n",
    "\n",
    "def is_even(number):\n",
    "    return number % 2 == 0\n",
    "\n",
    "print(is_even(2)) # True\n",
    "print(is_even(3)) # False\n",
    "#7.Filter odd numbers from the given list:\n",
    "\n",
    "numbers = [1, 2, 3, 4, 5, 6, 7, 8, 9, 10]\n",
    "\n",
    "odd_numbers = [x for x in numbers if x % 2 != 0]\n",
    "\n",
    "print(odd_numbers) # [1, 3, 5, 7, 9]\n",
    "#8.Sort a list of integers into positive and negative integers lists:\n",
    "\n",
    "numbers = [1, 2, 3, 4, 5, 6, -1, -2, -3, -4, -5, 0]\n",
    "\n",
    "positive_numbers = [x for x in numbers if x > 0]\n",
    "negative_numbers = [x for x in numbers if x < 0]\n",
    "\n",
    "print(positive_numbers) # [1, 2, 3, 4,"
   ]
  },
  {
   "cell_type": "code",
   "execution_count": null,
   "id": "15e408de",
   "metadata": {},
   "outputs": [],
   "source": []
  },
  {
   "cell_type": "code",
   "execution_count": null,
   "id": "01d51d53",
   "metadata": {},
   "outputs": [],
   "source": []
  },
  {
   "cell_type": "code",
   "execution_count": null,
   "id": "1a7028e5",
   "metadata": {},
   "outputs": [],
   "source": []
  },
  {
   "cell_type": "code",
   "execution_count": null,
   "id": "694183fd",
   "metadata": {},
   "outputs": [],
   "source": []
  }
 ],
 "metadata": {
  "kernelspec": {
   "display_name": "Python 3 (ipykernel)",
   "language": "python",
   "name": "python3"
  },
  "language_info": {
   "codemirror_mode": {
    "name": "ipython",
    "version": 3
   },
   "file_extension": ".py",
   "mimetype": "text/x-python",
   "name": "python",
   "nbconvert_exporter": "python",
   "pygments_lexer": "ipython3",
   "version": "3.10.5"
  }
 },
 "nbformat": 4,
 "nbformat_minor": 5
}
