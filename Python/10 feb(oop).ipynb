{
 "cells": [
  {
   "cell_type": "markdown",
   "id": "3141c0c2",
   "metadata": {},
   "source": [
    "# 10 feb (oop)"
   ]
  },
  {
   "cell_type": "markdown",
   "id": "596b803a",
   "metadata": {},
   "source": [
    "Question 1 : Which function is used to open a file? What are the different modes of opening a file? Explain each mode of file opening.\n",
    "Answer : Files in Python can be opened with a built-in open() function\n",
    "Syntax : open(file_address, access_mode)\n",
    "\n",
    "In ‘r’ mode, the file opens in the read only mode. By default, if we don’t specify the mode argument, it will be treated as read or ‘r’ mode."
   ]
  },
  {
   "cell_type": "code",
   "execution_count": 4,
   "id": "8d9331b4",
   "metadata": {},
   "outputs": [
    {
     "name": "stdout",
     "output_type": "stream",
     "text": [
      "\n"
     ]
    }
   ],
   "source": [
    "# r mode example\n",
    "# Reading a file\n",
    "file = open('Myfile', 'r')\n",
    "\n",
    "#read()\n",
    "text = file.read()\n",
    "\n",
    "print(text)\n",
    "file.close()"
   ]
  },
  {
   "cell_type": "code",
   "execution_count": 5,
   "id": "8a0f6d7d",
   "metadata": {},
   "outputs": [],
   "source": [
    "# Appending and reading a file\n",
    "file = open('MyFile.txt', 'a+')\n",
    "lines = file.read()\n",
    "file.write('This is a+ mode\\n')\n",
    "file.close()"
   ]
  },
  {
   "cell_type": "markdown",
   "id": "c5dd6279",
   "metadata": {},
   "source": [
    "Question 2: Why close() function is used? Why is it important to close a file?\n",
    "Answer : It is always a good practice to close a file after performing desired operations to it. Thus makes sure that all our changes have been saved to the file."
   ]
  },
  {
   "cell_type": "code",
   "execution_count": 6,
   "id": "50299367",
   "metadata": {},
   "outputs": [
    {
     "name": "stdout",
     "output_type": "stream",
     "text": [
      "This is a+ mode\n",
      "\n"
     ]
    }
   ],
   "source": [
    "# Opening file in read mode\n",
    "file = open('MyFile.txt', 'r')\n",
    "\n",
    "#reading file and printing results\n",
    "text = file.read()\n",
    "print(text)\n",
    "\n",
    "# Closing the file\n",
    "file.close()"
   ]
  },
  {
   "cell_type": "markdown",
   "id": "5ca448a5",
   "metadata": {},
   "source": [
    "Question 3: Write a python program to create a text file. Write ‘I want to become a Data Scientist’ in that file. Then close the file. Open this file and read the content of the file."
   ]
  },
  {
   "cell_type": "code",
   "execution_count": 7,
   "id": "9d9b829d",
   "metadata": {},
   "outputs": [],
   "source": [
    "# Opening a file in write mode\n",
    "new_file = open('new_file.txt','w')\n",
    "# Writing the file in write mode\n",
    "new_file.write('I want to become a Data Scientist')\n",
    "# Closing the file\n",
    "new_file.close()"
   ]
  },
  {
   "cell_type": "code",
   "execution_count": 8,
   "id": "7a6fba98",
   "metadata": {},
   "outputs": [
    {
     "name": "stdout",
     "output_type": "stream",
     "text": [
      "I want to become a Data Scientist\n"
     ]
    }
   ],
   "source": [
    "# Opening file in read mode\n",
    "new_file = open('new_file.txt','r')\n",
    "# Reading the file\n",
    "lines = new_file.read()\n",
    "print(lines)\n",
    "# Closing the file\n",
    "new_file.close()"
   ]
  },
  {
   "cell_type": "markdown",
   "id": "18ee0fb9",
   "metadata": {},
   "source": [
    "Question 4 : explain the following with python code: read(), readline() and readlines()."
   ]
  },
  {
   "cell_type": "markdown",
   "id": "a7dbc4ed",
   "metadata": {},
   "source": [
    "Answer :\n",
    "The read() method returns the specified number of bytes from the file. Default is -1 which means the whole file."
   ]
  },
  {
   "cell_type": "code",
   "execution_count": 9,
   "id": "67394f59",
   "metadata": {},
   "outputs": [
    {
     "name": "stdout",
     "output_type": "stream",
     "text": [
      "This is a+ mode\n",
      "\n"
     ]
    }
   ],
   "source": [
    "file = open('MyFile.txt','r')\n",
    "print(file.read())\n",
    "file.close()"
   ]
  },
  {
   "cell_type": "code",
   "execution_count": 10,
   "id": "cd33155f",
   "metadata": {},
   "outputs": [
    {
     "name": "stdout",
     "output_type": "stream",
     "text": [
      "This is a+ mode\n",
      "\n"
     ]
    }
   ],
   "source": [
    "file = open('MyFile.txt','r')\n",
    "print(file.read())\n",
    "file.close()"
   ]
  },
  {
   "cell_type": "code",
   "execution_count": 11,
   "id": "2d998a40",
   "metadata": {},
   "outputs": [
    {
     "name": "stdout",
     "output_type": "stream",
     "text": [
      "['This is a+ mode\\n']\n"
     ]
    }
   ],
   "source": [
    "file = open('MyFile.txt','r')\n",
    "print(file.readlines())\n",
    "file.close()"
   ]
  },
  {
   "cell_type": "markdown",
   "id": "2b1b8e72",
   "metadata": {},
   "source": [
    "Question 5 : Explain why with statement is used with open(). What is the advantage of using with statement and open() together\n",
    "Answer : In Python, with statement is used in exception handling to make the code cleaner and much more readable. It simplifies the management of common resources like file streams.\n",
    "Advantage is : unlike the previous implementations, there is no need to call file.close()\n",
    "It is guaranteed to close the file no matter how the nested block exits. If an exception occurs before the end of the block, it will close the file before the exception is caught by an outer exception handler."
   ]
  },
  {
   "cell_type": "code",
   "execution_count": 12,
   "id": "6a1d7bb3",
   "metadata": {},
   "outputs": [],
   "source": [
    "# using with statement\n",
    "with open('with_file.txt', 'w') as file:\n",
    "\tfile.write('This is file created using with statement')\n"
   ]
  },
  {
   "cell_type": "code",
   "execution_count": 13,
   "id": "d26a5d00",
   "metadata": {},
   "outputs": [],
   "source": [
    "# using with statement\n",
    "with open('with_file.txt', 'w') as file:\n",
    "\tfile.write('This is file created using with statement')\n"
   ]
  },
  {
   "cell_type": "markdown",
   "id": "445d6866",
   "metadata": {},
   "source": [
    "Question 6: Explain the write() and writelines() functions. Give a suitable example\n",
    "Answer :\n",
    "The write() function will write the content in the file without adding any extra characters.\n",
    "While writing data to a file, we must know that the write function does not add a newline character(\\n) to the end of the string.\n",
    "The write() function returns None."
   ]
  },
  {
   "cell_type": "code",
   "execution_count": 15,
   "id": "7eaa8f8e",
   "metadata": {},
   "outputs": [
    {
     "name": "stdout",
     "output_type": "stream",
     "text": [
      "Name of student : Utkarsh\n",
      "Name of student : Pravin\n",
      "Name of student : Dhiraj\n",
      "\n"
     ]
    }
   ],
   "source": [
    "student_file = open(\"students.txt\", \"w\")\n",
    "\n",
    "student_name = ['Utkarsh','Pravin','Dhiraj']\n",
    "\n",
    "for i in student_name:\n",
    "    student_file.write(f'Name of student : {i}')\n",
    "    student_file.write(\"\\n\")\n",
    "\t\n",
    "student_file.close()\n",
    "with open('students.txt','r') as file:\n",
    "    print(file.read())"
   ]
  },
  {
   "cell_type": "markdown",
   "id": "f9a226ac",
   "metadata": {},
   "source": [
    "writelines(): This function writes the content of a list to a file.\n",
    "the list of strings that is passed to the writelines() function is written into the opened file.\n",
    "Similar to the write() function, the writelines() function does not add a newline character(\\n) to the end of the string\n",
    "\n"
   ]
  },
  {
   "cell_type": "code",
   "execution_count": 16,
   "id": "ff2bd67f",
   "metadata": {},
   "outputs": [
    {
     "name": "stdout",
     "output_type": "stream",
     "text": [
      "Suraj\n",
      "Ramesh\n",
      "Suresh\n",
      "\n"
     ]
    }
   ],
   "source": [
    "student_name2 = ['Suraj','Ramesh','Suresh']\n",
    "# Adding \\n character to each element in list \n",
    "lst = []\n",
    "for i in student_name2:\n",
    "    lst.append(i+'\\n')\n",
    "# Writing with writelines\n",
    "with open('student2.txt','w') as file2:\n",
    "    file2.writelines(lst)\n",
    "with open('student2.txt','r') as file2:\n",
    "    print(file2.read())"
   ]
  },
  {
   "cell_type": "code",
   "execution_count": null,
   "id": "462ca4de",
   "metadata": {},
   "outputs": [],
   "source": []
  }
 ],
 "metadata": {
  "kernelspec": {
   "display_name": "Python 3 (ipykernel)",
   "language": "python",
   "name": "python3"
  },
  "language_info": {
   "codemirror_mode": {
    "name": "ipython",
    "version": 3
   },
   "file_extension": ".py",
   "mimetype": "text/x-python",
   "name": "python",
   "nbconvert_exporter": "python",
   "pygments_lexer": "ipython3",
   "version": "3.10.5"
  }
 },
 "nbformat": 4,
 "nbformat_minor": 5
}
