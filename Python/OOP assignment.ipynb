{
 "cells": [
  {
   "cell_type": "code",
   "execution_count": null,
   "id": "8a20c50c",
   "metadata": {},
   "outputs": [],
   "source": []
  },
  {
   "cell_type": "raw",
   "id": "40151736",
   "metadata": {},
   "source": [
    "Q.1> Create a vehicle class with an init method having instance variables as name_of_vehicle,max_speed and average_of_vehicle."
   ]
  },
  {
   "cell_type": "code",
   "execution_count": 1,
   "id": "a870738d",
   "metadata": {},
   "outputs": [
    {
     "name": "stdout",
     "output_type": "stream",
     "text": [
      "Kia\n",
      "200\n",
      "50\n"
     ]
    }
   ],
   "source": [
    "class Vehicle:\n",
    "    def __init__(self, name_of_vehicle, max_speed, average_of_vehicle):\n",
    "        self.name_of_vehicle = name_of_vehicle\n",
    "        self.max_speed = max_speed\n",
    "        self.average_of_vehicle = average_of_vehicle\n",
    "        \n",
    "car = Vehicle(\"Kia\", 200, 50)\n",
    "print(car.name_of_vehicle)  # \"Kia\"\n",
    "print(car.max_speed)  # 200\n",
    "print(car.average_of_vehicle)  # 50"
   ]
  },
  {
   "cell_type": "raw",
   "id": "f20c23d6",
   "metadata": {},
   "source": [
    "Q.2> Create a child class car from the vehicle class created in Que 1, which will inherit the vehicle class. Create a method named seating_capacity which takes capacity as an argument and returns the name of the vehicle and its seating capacity."
   ]
  },
  {
   "cell_type": "code",
   "execution_count": 3,
   "id": "2e3cae13",
   "metadata": {},
   "outputs": [
    {
     "name": "stdout",
     "output_type": "stream",
     "text": [
      "The Kia has a seating capacity of 5.\n"
     ]
    }
   ],
   "source": [
    "class Car(Vehicle):\n",
    "    def seating_capacity(self, capacity):\n",
    "        return f\"The {self.name_of_vehicle} has a seating capacity of {capacity}.\"\n",
    "    \n",
    "my_car = Car(\"Kia\",200, 50)\n",
    "print(my_car.seating_capacity(5))  # \"The My Car has a seating capacity of 5.\""
   ]
  },
  {
   "cell_type": "code",
   "execution_count": null,
   "id": "4d372ae1",
   "metadata": {},
   "outputs": [],
   "source": [
    "Q3. What is multiple inheritance? Write a python code to demonstrate multiple inheritance."
   ]
  },
  {
   "cell_type": "raw",
   "id": "9a770697",
   "metadata": {},
   "source": [
    "Multiple inheritance is a feature of object-oriented programming that allows a class to inherit attributes and behaviors from multiple parent classes. This allows for greater flexibility and  code reuse, as a single class can inherit the characteristics of multiple existing classes. It is distinct from single inheritance, where an object or class may only inherit from one particular object or class.\n"
   ]
  },
  {
   "cell_type": "code",
   "execution_count": 5,
   "id": "f499d980",
   "metadata": {},
   "outputs": [
    {
     "name": "stdout",
     "output_type": "stream",
     "text": [
      "Engine is started.\n",
      "Fuel tank is filled with  30 liters.\n",
      "Driver is driving the car.\n"
     ]
    }
   ],
   "source": [
    "class Engine:\n",
    "    def start(self):\n",
    "        return \"Engine is started.\"\n",
    "\n",
    "class FuelSystem:\n",
    "    def fill_fuel(self, fuel_amount):\n",
    "        return f\"Fuel tank is filled with  {fuel_amount} liters.\"\n",
    "\n",
    "class Car(Engine, FuelSystem):\n",
    "    def drive(self):\n",
    "        return \"Driver is driving the car.\"\n",
    "\n",
    "my_car = Car()\n",
    "print(my_car.start())  # \"Engine is started.\"\n",
    "print(my_car.fill_fuel(30))  # \"Fuel tank is  filled with 50 liters.\"\n",
    "print(my_car.drive())  # \"Driver is driving the car.\""
   ]
  },
  {
   "cell_type": "raw",
   "id": "ca20f172",
   "metadata": {},
   "source": [
    "Q.4> What are getter and setter in python? Create a class and create a getter and a setter method in this class\n",
    "\n"
   ]
  },
  {
   "cell_type": "raw",
   "id": "c204ed28",
   "metadata": {},
   "source": [
    "Getters and setters are methods in object-oriented programming that allow you to control access to the attributes of an object. A getter method is used to retrieve the value of an attribute, while a setter method is used to set the value of an attribute."
   ]
  },
  {
   "cell_type": "code",
   "execution_count": 6,
   "id": "f281cb63",
   "metadata": {},
   "outputs": [
    {
     "name": "stdout",
     "output_type": "stream",
     "text": [
      "Priya Koneri\n",
      "Priya Koneri\n",
      "22\n",
      "22\n"
     ]
    }
   ],
   "source": [
    "class Person:\n",
    "    def __init__(self, name, age):\n",
    "        self._name = name\n",
    "        self._age = age\n",
    "\n",
    "    @property\n",
    "    def name(self):\n",
    "        return self._name\n",
    "\n",
    "    @name.setter\n",
    "    def name(self, value):\n",
    "        if not isinstance(value, str):\n",
    "            raise TypeError(\"Name must be a string.\")\n",
    "        self._name = value\n",
    "\n",
    "    @property\n",
    "    def age(self):\n",
    "        return self._age\n",
    "\n",
    "    @age.setter\n",
    "    def age(self, value):\n",
    "        if not isinstance(value, int):\n",
    "            raise TypeError(\"Age must be an integer.\")\n",
    "        self._age = value\n",
    "\n",
    "person = Person(\"Priya Koneri\", 22)\n",
    "print(person.name)  # \"Priya Koneri\"\n",
    "person.name = \"Priya Koneri\"\n",
    "print(person.name)  # \"Priya Koneri\"\n",
    "print(person.age)  # 22\n",
    "person.age = 22\n",
    "print(person.age)  # 22"
   ]
  },
  {
   "cell_type": "raw",
   "id": "baf47f0b",
   "metadata": {},
   "source": [
    "Q5)What is method overriding in python?Write a python code to demonstrate method overriding"
   ]
  },
  {
   "cell_type": "raw",
   "id": "f79a04cc",
   "metadata": {},
   "source": [
    "Method overriding is an ability of any object-oriented programming language that allows a subclass or child class to provide a specific implementation of a method that is already provided by one of its super-classes or parent classes. When a method in a subclass has the same name, same parameters or signature and same return type(or sub-type) as a method in its super-class, then the method in the subclass is said to override the method in the super-class."
   ]
  },
  {
   "cell_type": "code",
   "execution_count": 8,
   "id": "9a3ece1d",
   "metadata": {},
   "outputs": [
    {
     "name": "stdout",
     "output_type": "stream",
     "text": [
      "Parent class\n",
      "Child class\n"
     ]
    }
   ],
   "source": [
    "\n",
    "# Defining parent class\n",
    "class Parent():\n",
    "      \n",
    "    # Constructor\n",
    "    def __init__(self):\n",
    "        self.value = \"Parent class\"\n",
    "          \n",
    "    # Parent's show method\n",
    "    def show(self):\n",
    "        print(self.value)\n",
    "          \n",
    "# Defining child class\n",
    "class Child(Parent):\n",
    "      \n",
    "    # Constructor\n",
    "    def __init__(self):\n",
    "        self.value = \"Child class\"\n",
    "          \n",
    "    # Child's show method\n",
    "    def show(self):\n",
    "        print(self.value)\n",
    "          \n",
    "          \n",
    "# Driver's code\n",
    "obj1 = Parent()\n",
    "obj2 = Child()\n",
    "  \n",
    "obj1.show()\n",
    "obj2.show()"
   ]
  },
  {
   "cell_type": "code",
   "execution_count": null,
   "id": "a92b854b",
   "metadata": {},
   "outputs": [],
   "source": []
  }
 ],
 "metadata": {
  "kernelspec": {
   "display_name": "Python 3 (ipykernel)",
   "language": "python",
   "name": "python3"
  },
  "language_info": {
   "codemirror_mode": {
    "name": "ipython",
    "version": 3
   },
   "file_extension": ".py",
   "mimetype": "text/x-python",
   "name": "python",
   "nbconvert_exporter": "python",
   "pygments_lexer": "ipython3",
   "version": "3.10.5"
  }
 },
 "nbformat": 4,
 "nbformat_minor": 5
}
